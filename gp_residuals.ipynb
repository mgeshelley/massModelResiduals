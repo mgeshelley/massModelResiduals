{
 "cells": [
  {
   "cell_type": "markdown",
   "metadata": {
    "id": "M074zCNRvsOW"
   },
   "source": [
    "## Imports"
   ]
  },
  {
   "cell_type": "code",
   "execution_count": 1,
   "metadata": {
    "colab": {
     "base_uri": "https://localhost:8080/",
     "height": 34
    },
    "id": "ugbTNFHIWW-y",
    "outputId": "fbf7230c-f86c-4813-a9e4-40c1fc7f41fd"
   },
   "outputs": [],
   "source": [
    "import numpy as np\n",
    "import matplotlib.pyplot as plt\n",
    "from matplotlib import rcParams\n",
    "\n",
    "import GPy as gpy\n",
    "import corner as corner\n",
    "\n",
    "# matplotlib style sheet\n",
    "plt.style.use('../../neutron_stars_tf/etf/style_1.mplstyle')\n",
    "\n",
    "np.random.seed(100)"
   ]
  },
  {
   "cell_type": "markdown",
   "metadata": {
    "id": "LUvmq8cxvrB1"
   },
   "source": [
    "# Load data"
   ]
  },
  {
   "cell_type": "code",
   "execution_count": 2,
   "metadata": {
    "id": "_q-zYlURW1Ey"
   },
   "outputs": [],
   "source": [
    "name = 'DZ'\n",
    "\n",
    "if name == 'DZ':\n",
    "    data = np.loadtxt('DZ_residuals.dat')\n",
    "elif name == 'LD':\n",
    "    data = np.loadtxt('LDM_residuals.dat')\n",
    "\n",
    "## Subset of data ##\n",
    "# Fraction of data to use for training\n",
    "trainFrac = 0.1\n",
    "\n",
    "# Shuffle\n",
    "shuffled = np.copy(data)\n",
    "rng = np.random.default_rng()\n",
    "rng.shuffle(shuffled, axis=0)\n",
    "\n",
    "# Select random indices of data for training, at random\n",
    "trainIdx = np.random.choice(shuffled.shape[0], int(round(trainFrac*shuffled.shape[0])), replace=False)\n",
    "\n",
    "# Create training and testing data sets\n",
    "train = shuffled[trainIdx,:]\n",
    "test = np.delete(shuffled, trainIdx, axis=0)\n",
    "\n",
    "# Save to file the data sets\n",
    "np.save('trainingData', train)\n",
    "np.save('testingData', test)\n",
    "\n",
    "# Input parameters and observations, for training and testing data sets\n",
    "X = train[:,1:3]\n",
    "Y = np.atleast_2d(train[:,3]).T\n",
    "Xtest = test[:,1:3]\n",
    "Ytest = np.atleast_2d(test[:,3]).T"
   ]
  },
  {
   "cell_type": "markdown",
   "metadata": {
    "id": "N6u5ZntIv4nS"
   },
   "source": [
    "# Create kernel and GPy model"
   ]
  },
  {
   "cell_type": "code",
   "execution_count": 3,
   "metadata": {
    "id": "BaXDXSgMcIFC"
   },
   "outputs": [],
   "source": [
    "kernel = gpy.kern.RBF(input_dim=2, ARD=True)\n",
    "# Fix GP noise parameter to average scale of experimental uncertainty, 0.0235 MeV, as done in Neufcourt et al.\n",
    "model = gpy.models.GPRegression(X, Y, kernel=kernel, noise_var=0.0235)\n",
    "_ = model.Gaussian_noise.variance.fix()"
   ]
  },
  {
   "cell_type": "code",
   "execution_count": 4,
   "metadata": {
    "colab": {
     "base_uri": "https://localhost:8080/",
     "height": 221
    },
    "id": "goqgwF61fd3S",
    "outputId": "6a76456e-986f-4ef4-c3e8-e93e415e6b52"
   },
   "outputs": [
    {
     "data": {
      "text/plain": [
       "\u001b[1mGP_regression.rbf.variance\u001b[0;0m:\n",
       "Param([1.])\n",
       "\u001b[1mGP_regression.rbf.lengthscale\u001b[0;0m:\n",
       "Param([1., 1.])\n",
       "\u001b[1mGP_regression.Gaussian_noise.variance\u001b[0;0m:\n",
       "Param([0.0235])"
      ]
     },
     "execution_count": 4,
     "metadata": {},
     "output_type": "execute_result"
    }
   ],
   "source": [
    "# Constrain RBF kernel hyperparameters to reasonable ranges\n",
    "# model.rbf.variance.constrain_bounded(0., 20.)\n",
    "# model.rbf.lengthscale.constrain_bounded(0.1, 10.)\n",
    "model['']"
   ]
  },
  {
   "cell_type": "markdown",
   "metadata": {},
   "source": [
    "# Hyperparameter optimisation"
   ]
  },
  {
   "cell_type": "code",
   "execution_count": 5,
   "metadata": {
    "colab": {
     "base_uri": "https://localhost:8080/",
     "height": 336,
     "referenced_widgets": [
      "d6d21ef6d6044996b56b0c08c3589148",
      "1e4ff524425a48ca8d89370a6de65c03",
      "2321c8362dc54f90b21a84a5f22f2b29",
      "65a2938a1bdd4c75a725876703505440",
      "c7d554fa3aac419192ae3003574cf658",
      "99afae7c32194adb80e897132df50999",
      "104a495a1d6948f38da09163a8d1e3fb",
      "ef1428a927b34eb1ab1a2ef90019d1a4",
      "7a3aa1ffd7ab4865babbfdd788287ecd",
      "bdee39e4b3834e778c07cbb97ece2033",
      "3a0ee40ffd1b42ccb5ff9a4ae222e25a",
      "4be1f5e8b2ed4553a2ef0f3b2e7e381d",
      "f165059f26ee4cb58e39638c9c9a20e9",
      "499db5417aa042ad8dd360493474235b",
      "297cf1c54fc14030b1625e8776200815"
     ]
    },
    "id": "2fkz_KxmgRGU",
    "outputId": "c74a79b0-2776-403e-dc81-4e4d1aed520f"
   },
   "outputs": [
    {
     "name": "stdout",
     "output_type": "stream",
     "text": [
      "Optimization restart 1/10, f = 143.48692797940856\n",
      "Optimization restart 2/10, f = 143.4869279795207\n",
      "Optimization restart 3/10, f = 143.4869279798983\n",
      "Optimization restart 4/10, f = 180.69059697583077\n",
      "Optimization restart 5/10, f = 143.48692797930727\n",
      "Optimization restart 6/10, f = 143.48692797930454\n",
      "Optimization restart 7/10, f = 165.52027180641852\n",
      "Optimization restart 8/10, f = 143.48692797934413\n",
      "Optimization restart 9/10, f = 143.4869279793009\n",
      "Optimization restart 10/10, f = 143.48692798360926\n"
     ]
    }
   ],
   "source": [
    "_ = model.optimize_restarts()"
   ]
  },
  {
   "cell_type": "code",
   "execution_count": 6,
   "metadata": {
    "colab": {
     "base_uri": "https://localhost:8080/",
     "height": 78
    },
    "id": "LApxNM6snFKS",
    "outputId": "17b3ee9b-b4bb-4824-db2f-3dd577574420"
   },
   "outputs": [
    {
     "data": {
      "text/plain": [
       "\u001b[1mGP_regression.rbf.variance\u001b[0;0m:\n",
       "Param([0.26632047])\n",
       "\u001b[1mGP_regression.rbf.lengthscale\u001b[0;0m:\n",
       "Param([2.0183583 , 1.78599876])\n",
       "\u001b[1mGP_regression.Gaussian_noise.variance\u001b[0;0m:\n",
       "Param([0.0235])"
      ]
     },
     "execution_count": 6,
     "metadata": {},
     "output_type": "execute_result"
    }
   ],
   "source": [
    "# Hyperparameters after optimization\n",
    "ML_values = model.rbf.param_array\n",
    "model['']"
   ]
  },
  {
   "cell_type": "code",
   "execution_count": 7,
   "metadata": {},
   "outputs": [],
   "source": [
    "# model.rbf.lengthscale = model.rbf.lengthscale + 1e-4 * np.random.randn(2)\n",
    "# model.rbf.variance = model.rbf.variance + 1e-4 * np.random.randn(1)\n",
    "\n",
    "# HMC inference of kernel hyperparameters\n",
    "# hmc = gpy.inference.mcmc.HMC(model, stepsize=5e-2)\n",
    "# samples = hmc.sample(num_samples=10)\n",
    "# samples[1:,:].mean(axis=0)"
   ]
  },
  {
   "cell_type": "markdown",
   "metadata": {},
   "source": [
    "# Predictions"
   ]
  },
  {
   "cell_type": "code",
   "execution_count": 8,
   "metadata": {
    "id": "ypWTg4yAo9iQ"
   },
   "outputs": [],
   "source": [
    "# GP predictions at original inputs\n",
    "mean, cov = model.predict_noiseless(X)\n",
    "\n",
    "# Save to file\n",
    "np.savetxt('data/'+name+'_GPPredictionsOriginalInput.dat',\n",
    "           np.hstack((X, mean, cov)),\n",
    "           fmt=('\\t%d', '\\t%d', '\\t%.9e', '\\t%.9e'),\n",
    "           header='\\tN\\tZ\\tmeans\\t\\t\\t\\tcovs')"
   ]
  },
  {
   "cell_type": "code",
   "execution_count": 9,
   "metadata": {
    "id": "Vwhsg4YUxJ6j"
   },
   "outputs": [],
   "source": [
    "\"\"\"\n",
    "Unknown points\n",
    "Test with Z=30; N=53 to N=100\n",
    "\"\"\"\n",
    "NNew = np.arange(53, 101, 1, dtype='int')\n",
    "ZNew = np.repeat(30, len(NNew))\n",
    "XNew = np.vstack((NNew, ZNew)).T\n",
    "\n",
    "# GP predictions at unknown points\n",
    "meanNew, covNew = model.predict_noiseless(XNew)\n",
    "\n",
    "# Save to file\n",
    "np.savetxt('data/'+name+'_GPPredictionsNewInput.dat',\n",
    "           np.hstack((XNew, meanNew, covNew)),\n",
    "           fmt=('\\t%d', '\\t%d', '\\t%.9e', '\\t%.9e'),\n",
    "           header='\\tN\\tZ\\tmeans\\t\\t\\t\\tcovs')"
   ]
  },
  {
   "cell_type": "markdown",
   "metadata": {},
   "source": [
    "# Plot"
   ]
  },
  {
   "cell_type": "code",
   "execution_count": 10,
   "metadata": {},
   "outputs": [
    {
     "name": "stdout",
     "output_type": "stream",
     "text": [
      "-3.6336526244317395e-05 0.07553474189465108\n",
      "0.48994149886968374\n"
     ]
    }
   ],
   "source": [
    "difference = mean - Y\n",
    "print(difference.mean(), difference.std())\n",
    "print(mean.std())"
   ]
  },
  {
   "cell_type": "code",
   "execution_count": 11,
   "metadata": {},
   "outputs": [
    {
     "data": {
      "image/png": "[encoded data removed]",
      "text/plain": [
       "<Figure size 504x216 with 1 Axes>"
      ]
     },
     "metadata": {
      "needs_background": "light"
     },
     "output_type": "display_data"
    }
   ],
   "source": [
    "colours = [plt.cm.tab10(i) for i in range(10)]\n",
    "\n",
    "fig, axs = plt.subplots(1, 1, figsize=(7, 3))\n",
    "\n",
    "axs.plot(X[:,1], Y,\n",
    "         alpha=0.5, color=colours[0], fillstyle='full', ls='none', marker='o', mew=0.1)\n",
    "axs.plot(X[:,1], mean,\n",
    "         alpha=0.5, color=colours[1], fillstyle='full', ls='none', marker='o', mew=0.1)\n",
    "\n",
    "axs.set_xlabel('N')\n",
    "axs.set_ylabel('Residual (MeV)')\n",
    "\n",
    "fig.tight_layout()\n",
    "fig.savefig(name+'_residualsDifference.pdf')"
   ]
  },
  {
   "cell_type": "markdown",
   "metadata": {},
   "source": [
    "# emcee runs"
   ]
  },
  {
   "cell_type": "markdown",
   "metadata": {},
   "source": [
    "## Load data"
   ]
  },
  {
   "cell_type": "code",
   "execution_count": 12,
   "metadata": {},
   "outputs": [],
   "source": [
    "runName = 'f50c2e3/'\n",
    "path = 'vikingRuns/'+runName\n",
    "\n",
    "originalResiduals = np.loadtxt(path+'DZ_residuals.dat')\n",
    "train = np.load(path+'trainingData.npy')\n",
    "test = np.load(path+'testingData.npy')\n",
    "ML_values = np.loadtxt(path+'ML_values.dat')\n",
    "emceeSamples = np.loadtxt(path+'flat_samples.dat')\n",
    "\n",
    "# Input parameters and observations, for training and testing data sets\n",
    "X = train[:,1:3]\n",
    "Y = np.atleast_2d(train[:,3]).T\n",
    "Xtest = test[:,1:3]\n",
    "Ytest = np.atleast_2d(test[:,3]).T"
   ]
  },
  {
   "cell_type": "markdown",
   "metadata": {},
   "source": [
    "## Plot train and test data"
   ]
  },
  {
   "cell_type": "code",
   "execution_count": 13,
   "metadata": {},
   "outputs": [
    {
     "data": {
      "image/png": "[encoded data removed]",
      "text/plain": [
       "<Figure size 432x288 with 1 Axes>"
      ]
     },
     "metadata": {
      "needs_background": "light"
     },
     "output_type": "display_data"
    }
   ],
   "source": [
    "colours = [plt.cm.tab10(i) for i in range(10)]\n",
    "\n",
    "fig, ax = plt.subplots(1, 1)\n",
    "\n",
    "ax.scatter(X[:,0], X[:,1], color=colours[0], marker='s', s=1., label='Training data')\n",
    "ax.scatter(Xtest[:,0], Xtest[:,1], color=colours[1], marker='s', s=1., label='Testing data')\n",
    "\n",
    "ax.legend()\n",
    "\n",
    "fig.tight_layout()\n",
    "fig.savefig(path+'trainTest.pdf')"
   ]
  },
  {
   "cell_type": "markdown",
   "metadata": {},
   "source": [
    "## Corner plot of GP hyperparameters"
   ]
  },
  {
   "cell_type": "code",
   "execution_count": 14,
   "metadata": {},
   "outputs": [
    {
     "data": {
      "image/png": "[encoded data removed]",
      "text/plain": [
       "<Figure size 244.8x244.8 with 9 Axes>"
      ]
     },
     "metadata": {
      "needs_background": "light"
     },
     "output_type": "display_data"
    }
   ],
   "source": [
    "# Input parameters and observations, for training and testing data sets\n",
    "X = train[:,1:3]\n",
    "Y = np.atleast_2d(train[:,3]).T\n",
    "Xtest = test[:,1:3]\n",
    "Ytest = np.atleast_2d(test[:,3]).T\n",
    "\n",
    "rcParams['axes.grid'] = False\n",
    "\n",
    "fig, axs = plt.subplots(3, 3, figsize=(3.4, 3.4))\n",
    "\n",
    "fig = corner.corner(emceeSamples[:,:],\n",
    "                    labels=[r'$\\eta^2$', r'$\\rho_N$', r'$\\rho_Z$'],\n",
    "                    label_kwargs={\"fontsize\": 7},\n",
    "                    show_titles=True,\n",
    "                    title_fmt='.2f',\n",
    "                    title_kwargs={\"fontsize\": 7},\n",
    "                    truths=ML_values,\n",
    "                    quantiles=[0.16, 0.5, 0.84],\n",
    "                    max_n_ticks=5,\n",
    "                    levels=(1-np.exp(-0.5),),\n",
    "                    fig=fig)\n",
    "\n",
    "fig.savefig(path+'cornerGPHypPars.pdf')"
   ]
  },
  {
   "cell_type": "markdown",
   "metadata": {},
   "source": [
    "## Prediction on test data"
   ]
  },
  {
   "cell_type": "code",
   "execution_count": 15,
   "metadata": {},
   "outputs": [
    {
     "name": "stdout",
     "output_type": "stream",
     "text": [
      "0.002690832231143599 0.5719458916369262\n",
      "0.0007972854296257608 0.24389272777836432\n"
     ]
    }
   ],
   "source": [
    "kernel = gpy.kern.RBF(2, ML_values[0], ML_values[1:], ARD=True)\n",
    "# Fix GP noise parameter to average scale of experimental uncertainty, 0.0235 MeV, as done in Neufcourt et al.\n",
    "model = gpy.models.GPRegression(X, Y, kernel=kernel, noise_var=0.0235)\n",
    "mean, var = model.predict_noiseless(Xtest)\n",
    "\n",
    "print(originalResiduals[:,3].mean(), originalResiduals[:,3].std())\n",
    "GPResiduals = Ytest-mean\n",
    "print(GPResiduals.mean(), GPResiduals.std())"
   ]
  },
  {
   "cell_type": "code",
   "execution_count": 16,
   "metadata": {},
   "outputs": [
    {
     "data": {
      "image/png": "[encoded data removed]",
      "text/plain": [
       "<Figure size 244.8x244.8 with 1 Axes>"
      ]
     },
     "metadata": {
      "needs_background": "light"
     },
     "output_type": "display_data"
    }
   ],
   "source": [
    "rcParams['axes.grid'] = True\n",
    "\n",
    "fig, ax = plt.subplots(1, 1, figsize=(3.4, 3.4))\n",
    "\n",
    "ax.hist(originalResiduals[:,3], bins=20, density=True,\n",
    "        color=colours[0],\n",
    "        label='Original',\n",
    "        alpha=0.5)\n",
    "ax.hist(Ytest-mean, bins=20, density=True,\n",
    "        color=colours[1],\n",
    "        label='Original+GP',\n",
    "        alpha=0.5)\n",
    "\n",
    "ax.legend()\n",
    "\n",
    "fig.tight_layout()\n",
    "fig.savefig(path+'residualsHistogram.pdf')"
   ]
  },
  {
   "cell_type": "code",
   "execution_count": null,
   "metadata": {},
   "outputs": [],
   "source": []
  }
 ],
 "metadata": {
  "colab": {
   "name": "gp_residuals.ipynb",
   "provenance": []
  },
  "kernelspec": {
   "display_name": "Python 3",
   "language": "python",
   "name": "python3"
  },
  "language_info": {
   "codemirror_mode": {
    "name": "ipython",
    "version": 3
   },
   "file_extension": ".py",
   "mimetype": "text/x-python",
   "name": "python",
   "nbconvert_exporter": "python",
   "pygments_lexer": "ipython3",
   "version": "3.7.8"
  },
  "toc": {
   "base_numbering": 1,
   "nav_menu": {
    "height": "173px",
    "width": "238px"
   },
   "number_sections": true,
   "sideBar": true,
   "skip_h1_title": false,
   "title_cell": "Table of Contents",
   "title_sidebar": "Contents",
   "toc_cell": false,
   "toc_position": {
    "height": "calc(100% - 180px)",
    "left": "10px",
    "top": "150px",
    "width": "317.391px"
   },
   "toc_section_display": true,
   "toc_window_display": true
  },
  "widgets": {
   "application/vnd.jupyter.widget-state+json": {
    "104a495a1d6948f38da09163a8d1e3fb": {
     "model_module": "@jupyter-widgets/controls",
     "model_name": "HTMLModel",
     "state": {
      "_dom_classes": [],
      "_model_module": "@jupyter-widgets/controls",
      "_model_module_version": "1.5.0",
      "_model_name": "HTMLModel",
      "_view_count": null,
      "_view_module": "@jupyter-widgets/controls",
      "_view_module_version": "1.5.0",
      "_view_name": "HTMLView",
      "description": "",
      "description_tooltip": null,
      "layout": "IPY_MODEL_f165059f26ee4cb58e39638c9c9a20e9",
      "placeholder": "​",
      "style": "IPY_MODEL_4be1f5e8b2ed4553a2ef0f3b2e7e381d",
      "value": "<style type=\"text/css\">\n    .tg-opt  {font-family:\"Courier New\", Courier, monospace !important;padding:2px 3px;word-break:normal;border-collapse:collapse;border-spacing:0;border-color:#DCDCDC;margin:0px auto;width:100%;}\n    .tg-opt td{font-family:\"Courier New\", Courier, monospace !important;font-weight:bold;color:#444;background-color:#F7FDFA;border-style:solid;border-width:1px;overflow:hidden;word-break:normal;border-color:#DCDCDC;}\n    .tg-opt th{font-family:\"Courier New\", Courier, monospace !important;font-weight:normal;color:#fff;background-color:#26ADE4;border-style:solid;border-width:1px;overflow:hidden;word-break:normal;border-color:#DCDCDC;}\n    .tg-opt .tg-left{font-family:\"Courier New\", Courier, monospace !important;font-weight:normal;text-align:left;}\n    .tg-opt .tg-right{font-family:\"Courier New\", Courier, monospace !important;font-weight:normal;text-align:right;}\n    </style>\n    <table class=\"tg-opt\"><tr><td class='tg-left'>optimizer</td><td class='tg-right'>L-BFGS-B (Scipy implementation)</td></tr><tr><td class='tg-left'>runtime</td><td class='tg-right'>45s80</td></tr><tr><td class='tg-left'>evaluation</td><td class='tg-right'>0015</td></tr><tr><td class='tg-left'>objective</td><td class='tg-right'>   3.627E+02</td></tr><tr><td class='tg-left'>||gradient||</td><td class='tg-right'>  +4.281E-08</td></tr><tr><td class='tg-left'>status</td><td class='tg-right'>Converged</td></tr></table>"
     }
    },
    "1e4ff524425a48ca8d89370a6de65c03": {
     "model_module": "@jupyter-widgets/base",
     "model_name": "LayoutModel",
     "state": {
      "_model_module": "@jupyter-widgets/base",
      "_model_module_version": "1.2.0",
      "_model_name": "LayoutModel",
      "_view_count": null,
      "_view_module": "@jupyter-widgets/base",
      "_view_module_version": "1.2.0",
      "_view_name": "LayoutView",
      "align_content": null,
      "align_items": null,
      "align_self": null,
      "border": null,
      "bottom": null,
      "display": null,
      "flex": null,
      "flex_flow": null,
      "grid_area": null,
      "grid_auto_columns": null,
      "grid_auto_flow": null,
      "grid_auto_rows": null,
      "grid_column": null,
      "grid_gap": null,
      "grid_row": null,
      "grid_template_areas": null,
      "grid_template_columns": null,
      "grid_template_rows": null,
      "height": null,
      "justify_content": null,
      "justify_items": null,
      "left": null,
      "margin": null,
      "max_height": null,
      "max_width": null,
      "min_height": null,
      "min_width": null,
      "object_fit": null,
      "object_position": null,
      "order": null,
      "overflow": null,
      "overflow_x": null,
      "overflow_y": null,
      "padding": null,
      "right": null,
      "top": null,
      "visibility": null,
      "width": null
     }
    },
    "2321c8362dc54f90b21a84a5f22f2b29": {
     "model_module": "@jupyter-widgets/controls",
     "model_name": "VBoxModel",
     "state": {
      "_dom_classes": [],
      "_model_module": "@jupyter-widgets/controls",
      "_model_module_version": "1.5.0",
      "_model_name": "VBoxModel",
      "_view_count": null,
      "_view_module": "@jupyter-widgets/controls",
      "_view_module_version": "1.5.0",
      "_view_name": "VBoxView",
      "box_style": "",
      "children": [
       "IPY_MODEL_99afae7c32194adb80e897132df50999",
       "IPY_MODEL_104a495a1d6948f38da09163a8d1e3fb"
      ],
      "layout": "IPY_MODEL_c7d554fa3aac419192ae3003574cf658"
     }
    },
    "297cf1c54fc14030b1625e8776200815": {
     "model_module": "@jupyter-widgets/base",
     "model_name": "LayoutModel",
     "state": {
      "_model_module": "@jupyter-widgets/base",
      "_model_module_version": "1.2.0",
      "_model_name": "LayoutModel",
      "_view_count": null,
      "_view_module": "@jupyter-widgets/base",
      "_view_module_version": "1.2.0",
      "_view_name": "LayoutView",
      "align_content": null,
      "align_items": null,
      "align_self": null,
      "border": null,
      "bottom": null,
      "display": null,
      "flex": null,
      "flex_flow": null,
      "grid_area": null,
      "grid_auto_columns": null,
      "grid_auto_flow": null,
      "grid_auto_rows": null,
      "grid_column": null,
      "grid_gap": null,
      "grid_row": null,
      "grid_template_areas": null,
      "grid_template_columns": null,
      "grid_template_rows": null,
      "height": null,
      "justify_content": null,
      "justify_items": null,
      "left": null,
      "margin": null,
      "max_height": null,
      "max_width": null,
      "min_height": null,
      "min_width": null,
      "object_fit": null,
      "object_position": null,
      "order": null,
      "overflow": null,
      "overflow_x": null,
      "overflow_y": null,
      "padding": null,
      "right": null,
      "top": null,
      "visibility": null,
      "width": null
     }
    },
    "3a0ee40ffd1b42ccb5ff9a4ae222e25a": {
     "model_module": "@jupyter-widgets/base",
     "model_name": "LayoutModel",
     "state": {
      "_model_module": "@jupyter-widgets/base",
      "_model_module_version": "1.2.0",
      "_model_name": "LayoutModel",
      "_view_count": null,
      "_view_module": "@jupyter-widgets/base",
      "_view_module_version": "1.2.0",
      "_view_name": "LayoutView",
      "align_content": null,
      "align_items": null,
      "align_self": null,
      "border": null,
      "bottom": null,
      "display": null,
      "flex": null,
      "flex_flow": null,
      "grid_area": null,
      "grid_auto_columns": null,
      "grid_auto_flow": null,
      "grid_auto_rows": null,
      "grid_column": null,
      "grid_gap": null,
      "grid_row": null,
      "grid_template_areas": null,
      "grid_template_columns": null,
      "grid_template_rows": null,
      "height": null,
      "justify_content": null,
      "justify_items": null,
      "left": null,
      "margin": null,
      "max_height": null,
      "max_width": null,
      "min_height": null,
      "min_width": null,
      "object_fit": null,
      "object_position": null,
      "order": null,
      "overflow": null,
      "overflow_x": null,
      "overflow_y": null,
      "padding": null,
      "right": null,
      "top": null,
      "visibility": null,
      "width": null
     }
    },
    "499db5417aa042ad8dd360493474235b": {
     "model_module": "@jupyter-widgets/controls",
     "model_name": "DescriptionStyleModel",
     "state": {
      "_model_module": "@jupyter-widgets/controls",
      "_model_module_version": "1.5.0",
      "_model_name": "DescriptionStyleModel",
      "_view_count": null,
      "_view_module": "@jupyter-widgets/base",
      "_view_module_version": "1.2.0",
      "_view_name": "StyleView",
      "description_width": ""
     }
    },
    "4be1f5e8b2ed4553a2ef0f3b2e7e381d": {
     "model_module": "@jupyter-widgets/controls",
     "model_name": "DescriptionStyleModel",
     "state": {
      "_model_module": "@jupyter-widgets/controls",
      "_model_module_version": "1.5.0",
      "_model_name": "DescriptionStyleModel",
      "_view_count": null,
      "_view_module": "@jupyter-widgets/base",
      "_view_module_version": "1.2.0",
      "_view_name": "StyleView",
      "description_width": ""
     }
    },
    "65a2938a1bdd4c75a725876703505440": {
     "model_module": "@jupyter-widgets/controls",
     "model_name": "BoxModel",
     "state": {
      "_dom_classes": [],
      "_model_module": "@jupyter-widgets/controls",
      "_model_module_version": "1.5.0",
      "_model_name": "BoxModel",
      "_view_count": null,
      "_view_module": "@jupyter-widgets/controls",
      "_view_module_version": "1.5.0",
      "_view_name": "BoxView",
      "box_style": "",
      "children": [
       "IPY_MODEL_7a3aa1ffd7ab4865babbfdd788287ecd"
      ],
      "layout": "IPY_MODEL_ef1428a927b34eb1ab1a2ef90019d1a4"
     }
    },
    "7a3aa1ffd7ab4865babbfdd788287ecd": {
     "model_module": "@jupyter-widgets/controls",
     "model_name": "HTMLModel",
     "state": {
      "_dom_classes": [],
      "_model_module": "@jupyter-widgets/controls",
      "_model_module_version": "1.5.0",
      "_model_name": "HTMLModel",
      "_view_count": null,
      "_view_module": "@jupyter-widgets/controls",
      "_view_module_version": "1.5.0",
      "_view_name": "HTMLView",
      "description": "",
      "description_tooltip": null,
      "layout": "IPY_MODEL_297cf1c54fc14030b1625e8776200815",
      "placeholder": "​",
      "style": "IPY_MODEL_499db5417aa042ad8dd360493474235b",
      "value": "<style type=\"text/css\">\n.pd{\n    font-family: \"Courier New\", Courier, monospace !important;\n    width: 100%;\n    padding: 3px;\n}\n</style>\n\n<p class=pd>\n<b>Model</b>: GP regression<br>\n<b>Objective</b>: 362.71186338484995<br>\n<b>Number of Parameters</b>: 4<br>\n<b>Number of Optimization Parameters</b>: 3<br>\n<b>Updates</b>: True<br>\n</p>\n<style type=\"text/css\">\n.tg  {font-family:\"Courier New\", Courier, monospace !important;padding:2px 3px;word-break:normal;border-collapse:collapse;border-spacing:0;border-color:#DCDCDC;margin:0px auto;width:100%;}\n.tg td{font-family:\"Courier New\", Courier, monospace !important;font-weight:bold;color:#444;background-color:#F7FDFA;border-style:solid;border-width:1px;overflow:hidden;word-break:normal;border-color:#DCDCDC;}\n.tg th{font-family:\"Courier New\", Courier, monospace !important;font-weight:normal;color:#fff;background-color:#26ADE4;border-style:solid;border-width:1px;overflow:hidden;word-break:normal;border-color:#DCDCDC;}\n.tg .tg-left{font-family:\"Courier New\", Courier, monospace !important;font-weight:normal;text-align:left;}\n.tg .tg-center{font-family:\"Courier New\", Courier, monospace !important;font-weight:normal;text-align:center;}\n.tg .tg-right{font-family:\"Courier New\", Courier, monospace !important;font-weight:normal;text-align:right;}\n</style>\n<table class=\"tg\"><tr><th><b>  GP_regression.         </b></th><th><b>             value</b></th><th><b>constraints</b></th><th><b>priors</b></th></tr>\n<tr><td class=tg-left>  rbf.variance           </td><td class=tg-right>0.4011965446228425</td><td class=tg-center>    +ve    </td><td class=tg-center>      </td></tr>\n<tr><td class=tg-left>  rbf.lengthscale        </td><td class=tg-right>              (2,)</td><td class=tg-center>    +ve    </td><td class=tg-center>      </td></tr>\n<tr><td class=tg-left>  Gaussian_noise.variance</td><td class=tg-right>            0.0235</td><td class=tg-center> +ve fixed </td><td class=tg-center>      </td></tr>\n</table>"
     }
    },
    "99afae7c32194adb80e897132df50999": {
     "model_module": "@jupyter-widgets/controls",
     "model_name": "IntProgressModel",
     "state": {
      "_dom_classes": [],
      "_model_module": "@jupyter-widgets/controls",
      "_model_module_version": "1.5.0",
      "_model_name": "IntProgressModel",
      "_view_count": null,
      "_view_module": "@jupyter-widgets/controls",
      "_view_module_version": "1.5.0",
      "_view_name": "ProgressView",
      "bar_style": "success",
      "description": "",
      "description_tooltip": null,
      "layout": "IPY_MODEL_3a0ee40ffd1b42ccb5ff9a4ae222e25a",
      "max": 1000,
      "min": 0,
      "orientation": "horizontal",
      "style": "IPY_MODEL_bdee39e4b3834e778c07cbb97ece2033",
      "value": 16
     }
    },
    "bdee39e4b3834e778c07cbb97ece2033": {
     "model_module": "@jupyter-widgets/controls",
     "model_name": "ProgressStyleModel",
     "state": {
      "_model_module": "@jupyter-widgets/controls",
      "_model_module_version": "1.5.0",
      "_model_name": "ProgressStyleModel",
      "_view_count": null,
      "_view_module": "@jupyter-widgets/base",
      "_view_module_version": "1.2.0",
      "_view_name": "StyleView",
      "bar_color": null,
      "description_width": ""
     }
    },
    "c7d554fa3aac419192ae3003574cf658": {
     "model_module": "@jupyter-widgets/base",
     "model_name": "LayoutModel",
     "state": {
      "_model_module": "@jupyter-widgets/base",
      "_model_module_version": "1.2.0",
      "_model_name": "LayoutModel",
      "_view_count": null,
      "_view_module": "@jupyter-widgets/base",
      "_view_module_version": "1.2.0",
      "_view_name": "LayoutView",
      "align_content": null,
      "align_items": null,
      "align_self": null,
      "border": null,
      "bottom": null,
      "display": null,
      "flex": null,
      "flex_flow": null,
      "grid_area": null,
      "grid_auto_columns": null,
      "grid_auto_flow": null,
      "grid_auto_rows": null,
      "grid_column": null,
      "grid_gap": null,
      "grid_row": null,
      "grid_template_areas": null,
      "grid_template_columns": null,
      "grid_template_rows": null,
      "height": null,
      "justify_content": null,
      "justify_items": null,
      "left": null,
      "margin": null,
      "max_height": null,
      "max_width": null,
      "min_height": null,
      "min_width": null,
      "object_fit": null,
      "object_position": null,
      "order": null,
      "overflow": null,
      "overflow_x": null,
      "overflow_y": null,
      "padding": null,
      "right": null,
      "top": null,
      "visibility": null,
      "width": null
     }
    },
    "d6d21ef6d6044996b56b0c08c3589148": {
     "model_module": "@jupyter-widgets/controls",
     "model_name": "HBoxModel",
     "state": {
      "_dom_classes": [],
      "_model_module": "@jupyter-widgets/controls",
      "_model_module_version": "1.5.0",
      "_model_name": "HBoxModel",
      "_view_count": null,
      "_view_module": "@jupyter-widgets/controls",
      "_view_module_version": "1.5.0",
      "_view_name": "HBoxView",
      "box_style": "",
      "children": [
       "IPY_MODEL_2321c8362dc54f90b21a84a5f22f2b29",
       "IPY_MODEL_65a2938a1bdd4c75a725876703505440"
      ],
      "layout": "IPY_MODEL_1e4ff524425a48ca8d89370a6de65c03"
     }
    },
    "ef1428a927b34eb1ab1a2ef90019d1a4": {
     "model_module": "@jupyter-widgets/base",
     "model_name": "LayoutModel",
     "state": {
      "_model_module": "@jupyter-widgets/base",
      "_model_module_version": "1.2.0",
      "_model_name": "LayoutModel",
      "_view_count": null,
      "_view_module": "@jupyter-widgets/base",
      "_view_module_version": "1.2.0",
      "_view_name": "LayoutView",
      "align_content": null,
      "align_items": null,
      "align_self": null,
      "border": null,
      "bottom": null,
      "display": null,
      "flex": null,
      "flex_flow": null,
      "grid_area": null,
      "grid_auto_columns": null,
      "grid_auto_flow": null,
      "grid_auto_rows": null,
      "grid_column": null,
      "grid_gap": null,
      "grid_row": null,
      "grid_template_areas": null,
      "grid_template_columns": null,
      "grid_template_rows": null,
      "height": null,
      "justify_content": null,
      "justify_items": null,
      "left": null,
      "margin": null,
      "max_height": null,
      "max_width": null,
      "min_height": null,
      "min_width": null,
      "object_fit": null,
      "object_position": null,
      "order": null,
      "overflow": null,
      "overflow_x": null,
      "overflow_y": null,
      "padding": null,
      "right": null,
      "top": null,
      "visibility": null,
      "width": null
     }
    },
    "f165059f26ee4cb58e39638c9c9a20e9": {
     "model_module": "@jupyter-widgets/base",
     "model_name": "LayoutModel",
     "state": {
      "_model_module": "@jupyter-widgets/base",
      "_model_module_version": "1.2.0",
      "_model_name": "LayoutModel",
      "_view_count": null,
      "_view_module": "@jupyter-widgets/base",
      "_view_module_version": "1.2.0",
      "_view_name": "LayoutView",
      "align_content": null,
      "align_items": null,
      "align_self": null,
      "border": null,
      "bottom": null,
      "display": null,
      "flex": null,
      "flex_flow": null,
      "grid_area": null,
      "grid_auto_columns": null,
      "grid_auto_flow": null,
      "grid_auto_rows": null,
      "grid_column": null,
      "grid_gap": null,
      "grid_row": null,
      "grid_template_areas": null,
      "grid_template_columns": null,
      "grid_template_rows": null,
      "height": null,
      "justify_content": null,
      "justify_items": null,
      "left": null,
      "margin": null,
      "max_height": null,
      "max_width": null,
      "min_height": null,
      "min_width": null,
      "object_fit": null,
      "object_position": null,
      "order": null,
      "overflow": null,
      "overflow_x": null,
      "overflow_y": null,
      "padding": null,
      "right": null,
      "top": null,
      "visibility": null,
      "width": null
     }
    }
   }
  }
 },
 "nbformat": 4,
 "nbformat_minor": 1
}
