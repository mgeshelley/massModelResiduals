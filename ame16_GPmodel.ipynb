{
 "cells": [
  {
   "cell_type": "markdown",
   "metadata": {},
   "source": [
    "## Imports"
   ]
  },
  {
   "cell_type": "code",
   "execution_count": 12,
   "metadata": {},
   "outputs": [],
   "source": [
    "import pickle\n",
    "from multiprocessing import Pool\n",
    "\n",
    "import numpy as np\n",
    "import pandas as pd\n",
    "\n",
    "import matplotlib.pyplot as plt\n",
    "from matplotlib import rcParams\n",
    "from matplotlib.ticker import MultipleLocator, MaxNLocator, FormatStrFormatter, AutoMinorLocator\n",
    "from matplotlib import gridspec\n",
    "\n",
    "import GPy as gpy\n",
    "import emcee\n",
    "\n",
    "# matplotlib style sheet\n",
    "plt.style.use('../../neutron_stars_tf/etf/style_1.mplstyle')\n",
    "\n",
    "# Seed\n",
    "np.random.seed(100)"
   ]
  },
  {
   "cell_type": "markdown",
   "metadata": {},
   "source": [
    "## Setup"
   ]
  },
  {
   "cell_type": "code",
   "execution_count": 13,
   "metadata": {},
   "outputs": [],
   "source": [
    "# Text box properties\n",
    "text_bbox = dict(boxstyle='round',\n",
    "                 facecolor=(1, 1, 1, 1),\n",
    "                 edgecolor='k',\n",
    "                 pad=0.5)"
   ]
  },
  {
   "cell_type": "markdown",
   "metadata": {},
   "source": [
    "# Load data"
   ]
  },
  {
   "cell_type": "code",
   "execution_count": 2,
   "metadata": {},
   "outputs": [],
   "source": [
    "columnHeadings = ['col1',\n",
    "                  'N_Z', 'N', 'Z', 'A', 'El',\n",
    "                  'origin',\n",
    "                  'mass_excess', 'mass_excess_unc',\n",
    "                  'BE_A', 'BE_A_unc',\n",
    "                  'B', 'beta_decay', 'beta_decay_unc',\n",
    "                  'atomic_mass_1', 'atomic_mass_2', # digits pre- and post- decimal point are in separate columns\n",
    "                  'atomic_mass_unc']\n",
    "\n",
    "# Width of each column in AME data file\n",
    "AMEwidths = [1, 3, 5, 5, 5, 4, 4, 14, 11, 11, 9, 3, 11, 9, 4, 13, 11]\n",
    "\n",
    "experimental = pd.read_fwf('mass16.txt', widths=AMEwidths,\n",
    "                 names=columnHeadings, skiprows=39)"
   ]
  },
  {
   "cell_type": "markdown",
   "metadata": {},
   "source": [
    "# Clean and separate data"
   ]
  },
  {
   "cell_type": "code",
   "execution_count": 3,
   "metadata": {},
   "outputs": [],
   "source": [
    "# Keep only nuclide and binding energy info\n",
    "experimental = experimental[['N', 'Z', 'A', 'El', 'BE_A', 'BE_A_unc']]\n",
    "\n",
    "# Mass values that are not purely experimental have a '#'\n",
    "experimental['estimated'] = experimental['BE_A'].str.contains('#')\n",
    "\n",
    "# Remove '#' and convert BE_A and BE_A unc. to floats\n",
    "experimental[['BE_A', 'BE_A_unc']] = experimental[['BE_A', 'BE_A_unc']].replace('#', '', regex=True)\n",
    "experimental = experimental.astype({'BE_A': 'float64', 'BE_A_unc': 'float64'})\n",
    "\n",
    "# Convert to MeV\n",
    "experimental.loc[:,['BE_A', 'BE_A_unc']] /= 1000.\n",
    "\n",
    "# Total BE and experimental errors\n",
    "experimental['BE'] = experimental.BE_A * experimental.A\n",
    "experimental['BE_unc'] = experimental.BE_A_unc * experimental.A"
   ]
  },
  {
   "cell_type": "markdown",
   "metadata": {},
   "source": [
    "# Load DZ residuals"
   ]
  },
  {
   "cell_type": "code",
   "execution_count": 4,
   "metadata": {},
   "outputs": [],
   "source": [
    "# DZwidths = [12, 12, 12, 26]\n",
    "# DZres = pd.read_fwf('DZ_residuals.dat', widths=DZwidths,\n",
    "#             names=['A', 'N', 'Z', 'residual'], skiprows=1)\n",
    "\n",
    "# # Check that all DZ residuals are for measured nuclei\n",
    "# numDZres_measured = len(DZres[['N', 'Z']].merge(measured[['N', 'Z']], how='inner'))\n",
    "# print(f'Total DZ residuals = {len(DZres)}')\n",
    "# print(f'DZ residuals for measured nuclei = {numDZres_measured}')\n",
    "\n",
    "# More complete DZ mass table\n",
    "DZwidths = [12, 12, 21]\n",
    "DZres = pd.read_fwf('dzcode/MassTableDZ.dat', widths=DZwidths,\n",
    "                    names=['Z', 'N', 'BE_DZ'], skiprows=1)\n",
    "\n",
    "# BE/A for DZ model\n",
    "DZres['BE_A_DZ'] = DZres.BE_DZ / (DZres.N + DZres.Z)\n",
    "\n",
    "# Merge experimental and DZ data, re-order columns, sort by Z then N, complete A columnb\n",
    "DZres = DZres.merge(experimental, how='outer', on=['Z', 'N'])\n",
    "DZres = DZres.reindex(columns=['Z', 'N', 'A', 'El', 'BE', 'BE_unc', 'BE_A', 'BE_A_unc', 'estimated',\n",
    "                               'BE_DZ', 'BE_A_DZ'])\n",
    "DZres = DZres.sort_values(by=['Z', 'N'])\n",
    "DZres.A = DZres.Z + DZres.N\n",
    "\n",
    "# List of all Z values\n",
    "ZList = DZres.Z.unique()\n",
    "# Make element list from (row 0, column 3) of all entries where El is not NaN, for specified Z\n",
    "ElList = [DZres[(DZres.El.notna()) & (DZres.Z == Z)].iloc[0,3] for Z in ZList]\n",
    "ElDict = dict(zip(ZList, ElList))\n",
    "# Use dictionary to fill in blank values for El\n",
    "DZres.El = DZres.Z.map(ElDict)\n",
    "\n",
    "# Calculate residuals\n",
    "DZres['BE_residual'] = DZres.BE_DZ - DZres.BE"
   ]
  },
  {
   "cell_type": "markdown",
   "metadata": {},
   "source": [
    "# Train GP on DZ residuals"
   ]
  },
  {
   "cell_type": "markdown",
   "metadata": {},
   "source": [
    "## Prepare training and testing data"
   ]
  },
  {
   "cell_type": "code",
   "execution_count": 5,
   "metadata": {},
   "outputs": [
    {
     "name": "stdout",
     "output_type": "stream",
     "text": [
      "Mean experimental error: 0.029087537800687287\n"
     ]
    }
   ],
   "source": [
    "# Select all or subset of residuals for training GP\n",
    "Zmin, Zmax = 0, 120\n",
    "query = f'Z >= {Zmin} & Z <= {Zmax} & BE_DZ.notna()'\n",
    "\n",
    "train = DZres.query(query)\n",
    "train = train[train.estimated.eq(False)]\n",
    "train.to_pickle('GP_training/train.pkl')\n",
    "\n",
    "# Average error of experimental BEs\n",
    "trainErrorsMean = train.BE_unc.mean()\n",
    "print(f'Mean experimental error: {trainErrorsMean}')\n",
    "\n",
    "Xtrain = train[['N', 'Z']].to_numpy()\n",
    "Ytrain = np.atleast_2d(train.BE_residual.to_numpy()).T"
   ]
  },
  {
   "cell_type": "code",
   "execution_count": 6,
   "metadata": {},
   "outputs": [],
   "source": [
    "# Select estimated values (in Z range) for testing\n",
    "test = DZres.query(query)\n",
    "test = test[test.estimated.eq(True)]\n",
    "test.to_pickle('GP_training/test.pkl')\n",
    "\n",
    "Xtest = train[['N', 'Z']].to_numpy()\n",
    "Ytest = np.atleast_2d(train.BE_residual.to_numpy()).T"
   ]
  },
  {
   "cell_type": "markdown",
   "metadata": {},
   "source": [
    "## Model setup"
   ]
  },
  {
   "cell_type": "code",
   "execution_count": 7,
   "metadata": {},
   "outputs": [
    {
     "name": "stdout",
     "output_type": "stream",
     "text": [
      "Initial model parameters: [1.         1.         1.         0.00105124]\n"
     ]
    },
    {
     "data": {
      "application/vnd.jupyter.widget-view+json": {
       "model_id": "fbb43afa3f534a96a471906983e13f65",
       "version_major": 2,
       "version_minor": 0
      },
      "text/plain": [
       "HBox(children=(VBox(children=(IntProgress(value=0, max=1000), HTML(value=''))), Box(children=(HTML(value=''),)…"
      ]
     },
     "metadata": {},
     "output_type": "display_data"
    },
    {
     "name": "stdout",
     "output_type": "stream",
     "text": [
      "Optimization restart 1/4, f = 100.93420486299408\n"
     ]
    },
    {
     "data": {
      "application/vnd.jupyter.widget-view+json": {
       "model_id": "0a00d6179df3407d8e8ff5f4ad4af055",
       "version_major": 2,
       "version_minor": 0
      },
      "text/plain": [
       "HBox(children=(VBox(children=(IntProgress(value=0, max=1000), HTML(value=''))), Box(children=(HTML(value=''),)…"
      ]
     },
     "metadata": {},
     "output_type": "display_data"
    },
    {
     "name": "stdout",
     "output_type": "stream",
     "text": [
      "Optimization restart 2/4, f = 100.93420486123148\n"
     ]
    },
    {
     "data": {
      "application/vnd.jupyter.widget-view+json": {
       "model_id": "0a0f4d40a7c4402592b83dcbf75aafcc",
       "version_major": 2,
       "version_minor": 0
      },
      "text/plain": [
       "HBox(children=(VBox(children=(IntProgress(value=0, max=1000), HTML(value=''))), Box(children=(HTML(value=''),)…"
      ]
     },
     "metadata": {},
     "output_type": "display_data"
    },
    {
     "name": "stdout",
     "output_type": "stream",
     "text": [
      "Optimization restart 3/4, f = 100.93420486096522\n"
     ]
    },
    {
     "data": {
      "application/vnd.jupyter.widget-view+json": {
       "model_id": "b74a5ec84f1542fdb86ff0c3f11def82",
       "version_major": 2,
       "version_minor": 0
      },
      "text/plain": [
       "HBox(children=(VBox(children=(IntProgress(value=0, max=1000), HTML(value=''))), Box(children=(HTML(value=''),)…"
      ]
     },
     "metadata": {},
     "output_type": "display_data"
    },
    {
     "name": "stdout",
     "output_type": "stream",
     "text": [
      "Optimization restart 4/4, f = 100.93420486106754\n",
      "RBF variance after MLE optimisation: 0.6399035919534561\n",
      "RBF lengthscales after MLE optimisation: [2.94166543 2.54322855]\n",
      "Nugget sigma: 0.20679383675463348\n"
     ]
    }
   ],
   "source": [
    "# Create 2D RBF kernel, with ARD\n",
    "kernel = gpy.kern.RBF(input_dim=2, ARD=True)\n",
    "\n",
    "# Create GPy model\n",
    "model = gpy.models.GPRegression(Xtrain, Ytrain, kernel=kernel, noise_var=trainErrorsMean**2)\n",
    "# # Fix GP noise parameter to average scale of experimental uncertainty\n",
    "# model.Gaussian_noise.variance.fix()\n",
    "print(f'Initial model parameters: {model.param_array}')\n",
    "\n",
    "# First optimise using MLE to get good starting point for HMC\n",
    "model.optimize_restarts(num_restarts=4, messages=True, clear_after_finish=True)\n",
    "\n",
    "# Save model and print some info\n",
    "with open('GP_training/model.pkl', 'wb') as f:\n",
    "    # Pickle the 'data' dictionary using the highest protocol available.\n",
    "    pickle.dump(model, f, pickle.HIGHEST_PROTOCOL)\n",
    "\n",
    "print(f'RBF variance after MLE optimisation: {model.rbf.param_array[0]}')\n",
    "print(f'RBF lengthscales after MLE optimisation: {model.rbf.param_array[1:]}')\n",
    "print(f'Nugget sigma: {np.sqrt(model.param_array[3])}')"
   ]
  },
  {
   "cell_type": "markdown",
   "metadata": {},
   "source": [
    "# Predictions with DZ+GP"
   ]
  },
  {
   "cell_type": "markdown",
   "metadata": {},
   "source": [
    "## Selected chains"
   ]
  },
  {
   "cell_type": "code",
   "execution_count": 7,
   "metadata": {},
   "outputs": [],
   "source": [
    "def predictResiduals(model, XPred):\n",
    "    # GP predictions at unknown points\n",
    "    meanNew, covNew = model.predict_noiseless(XPred)\n",
    "\n",
    "    # Save to file\n",
    "    np.savetxt('GP_training/GP_predictions.dat',\n",
    "               np.hstack((XPred, meanNew, covNew)),\n",
    "               fmt=('\\t%d', '\\t%d', '\\t%.9e', '\\t%.9e'),\n",
    "               header='\\tN\\tZ\\tmeans\\t\\t\\t\\tcovs')\n",
    "    \n",
    "    return meanNew, covNew\n",
    "\n",
    "with open('GP_training/model.pkl', 'rb') as f:\n",
    "    model = pickle.load(f)\n",
    "\n",
    "pred = DZres.query(query)\n",
    "pred = pred[pred.estimated.notna()]\n",
    "XPred = pred[['N', 'Z']].to_numpy()\n",
    "means, covs = predictResiduals(model, XPred)\n",
    "pred['GP_mean'] = means\n",
    "pred['GP_sigma'] = np.sqrt(covs)\n",
    "pred['DZ_GP'] = pred.BE_residual - pred.GP_mean\n",
    "pred.to_pickle('GP_training/predict.pkl')"
   ]
  },
  {
   "cell_type": "code",
   "execution_count": 26,
   "metadata": {},
   "outputs": [
    {
     "data": {
      "image/png": "[encoded data removed]",
      "text/plain": [
       "<Figure size 244.8x244.8 with 2 Axes>"
      ]
     },
     "metadata": {
      "needs_background": "light"
     },
     "output_type": "display_data"
    }
   ],
   "source": [
    "# Plot\n",
    "Zvals = [28, 29]\n",
    "vertLinePos = [45.5, 49.5]\n",
    "\n",
    "fig, axs = plt.subplots(len(Zvals), 1, figsize=(3.4, 3.4), sharex=True, gridspec_kw={'hspace': 0.})\n",
    "\n",
    "for i, (ax, Z, v) in enumerate(zip(axs, Zvals, vertLinePos)):\n",
    "    chain = pred.query('Z == @Z & N >= 30')\n",
    "    \n",
    "    ax.axhline(0., c='k')\n",
    "    ax.axvline(v, ls='--', c='yellow')\n",
    "    \n",
    "    ax.plot(chain.N, chain.BE_residual, label='DZ')\n",
    "    ax.errorbar(chain.N, chain.DZ_GP, yerr=chain.GP_sigma,\n",
    "                capsize=2., label='DZ-GP')\n",
    "    ax.errorbar(chain.N, np.zeros(len(chain.N)), yerr=chain.BE_unc,\n",
    "                capsize=2., label='Exp')\n",
    "    \n",
    "    ax.text(0.1, 0.8, fr'$Z={Z}$',\n",
    "            bbox=text_bbox,\n",
    "            transform=ax.transAxes)\n",
    "    \n",
    "    ax.set_ylabel(r'$B_{th}-B_{exp}\\left[\\mathrm{MeV}\\right]$')\n",
    "    \n",
    "    ax.xaxis.set_major_locator(MultipleLocator(2))\n",
    "    \n",
    "    ax.legend(loc='upper center')\n",
    "\n",
    "axs[-1].set_xlabel('$Z$')\n",
    "fig.align_ylabels(axs[:])\n",
    "\n",
    "fig.tight_layout()\n",
    "fig.savefig('GP_training/Z_chains.pdf')"
   ]
  },
  {
   "cell_type": "markdown",
   "metadata": {},
   "source": [
    "## Residuals as function of $A$"
   ]
  },
  {
   "cell_type": "code",
   "execution_count": 27,
   "metadata": {},
   "outputs": [
    {
     "data": {
      "image/png": "[encoded data removed]",
      "text/plain": [
       "<Figure size 244.8x244.8 with 2 Axes>"
      ]
     },
     "metadata": {
      "needs_background": "light"
     },
     "output_type": "display_data"
    }
   ],
   "source": [
    "fig, axs = plt.subplots(2, 1, figsize=(3.4, 3.4), sharex=True, gridspec_kw={'hspace': 0.})\n",
    "\n",
    "text = ['DZ', 'DZ-GP']\n",
    "\n",
    "axs[0].plot(train.A, train.BE_residual,\n",
    "            c='blue', ls='', marker='x', alpha=0.2)\n",
    "axs[1].plot(pred[pred.estimated == False].A, pred[pred.estimated == False].DZ_GP,\n",
    "            c='orange', ls='', marker='x', alpha=0.2)\n",
    "\n",
    "axs[1].set_xlabel(r'$A$')\n",
    "\n",
    "for ax, t in zip(axs, text):\n",
    "    ax.set_ylabel(r'$B_{th}-B_{exp}\\left[\\mathrm{MeV}\\right]$')\n",
    "    ax.text(0.9, 0.2, t,\n",
    "            ha='center', va='center',\n",
    "            bbox=text_bbox,\n",
    "            transform=ax.transAxes)\n",
    "\n",
    "fig.align_ylabels(axs[:])\n",
    "\n",
    "fig.tight_layout()\n",
    "fig.savefig('GP_training/residuals_vs_A.pdf')"
   ]
  },
  {
   "cell_type": "markdown",
   "metadata": {},
   "source": [
    "## Comparing residual distributions"
   ]
  },
  {
   "cell_type": "code",
   "execution_count": 28,
   "metadata": {},
   "outputs": [
    {
     "name": "stdout",
     "output_type": "stream",
     "text": [
      "sigma for DZ for training data: 0.591 MeV\n",
      "sigma for DZ-GP for training data: 0.175 MeV\n"
     ]
    },
    {
     "data": {
      "text/html": [
       "<div>\n",
       "<style scoped>\n",
       "    .dataframe tbody tr th:only-of-type {\n",
       "        vertical-align: middle;\n",
       "    }\n",
       "\n",
       "    .dataframe tbody tr th {\n",
       "        vertical-align: top;\n",
       "    }\n",
       "\n",
       "    .dataframe thead th {\n",
       "        text-align: right;\n",
       "    }\n",
       "</style>\n",
       "<table border=\"1\" class=\"dataframe\">\n",
       "  <thead>\n",
       "    <tr style=\"text-align: right;\">\n",
       "      <th></th>\n",
       "      <th>Z</th>\n",
       "      <th>N</th>\n",
       "      <th>A</th>\n",
       "      <th>BE</th>\n",
       "      <th>BE_unc</th>\n",
       "      <th>BE_A</th>\n",
       "      <th>BE_A_unc</th>\n",
       "      <th>BE_DZ</th>\n",
       "      <th>BE_A_DZ</th>\n",
       "      <th>BE_residual</th>\n",
       "      <th>GP_mean</th>\n",
       "      <th>GP_sigma</th>\n",
       "      <th>DZ_GP</th>\n",
       "    </tr>\n",
       "  </thead>\n",
       "  <tbody>\n",
       "    <tr>\n",
       "      <th>count</th>\n",
       "      <td>2328.000000</td>\n",
       "      <td>2328.000000</td>\n",
       "      <td>2328.000000</td>\n",
       "      <td>2328.000000</td>\n",
       "      <td>2328.000000</td>\n",
       "      <td>2328.000000</td>\n",
       "      <td>2328.000000</td>\n",
       "      <td>2328.000000</td>\n",
       "      <td>2328.000000</td>\n",
       "      <td>2328.000000</td>\n",
       "      <td>2328.000000</td>\n",
       "      <td>2328.000000</td>\n",
       "      <td>2328.000000</td>\n",
       "    </tr>\n",
       "    <tr>\n",
       "      <th>mean</th>\n",
       "      <td>58.273625</td>\n",
       "      <td>81.629725</td>\n",
       "      <td>139.903351</td>\n",
       "      <td>1124.900112</td>\n",
       "      <td>0.029088</td>\n",
       "      <td>8.159786</td>\n",
       "      <td>0.000350</td>\n",
       "      <td>1124.814876</td>\n",
       "      <td>8.159135</td>\n",
       "      <td>-0.085235</td>\n",
       "      <td>-0.084849</td>\n",
       "      <td>0.087694</td>\n",
       "      <td>-0.000387</td>\n",
       "    </tr>\n",
       "    <tr>\n",
       "      <th>std</th>\n",
       "      <td>23.907182</td>\n",
       "      <td>36.671463</td>\n",
       "      <td>60.151425</td>\n",
       "      <td>444.276506</td>\n",
       "      <td>0.092694</td>\n",
       "      <td>0.371506</td>\n",
       "      <td>0.001535</td>\n",
       "      <td>444.246937</td>\n",
       "      <td>0.372573</td>\n",
       "      <td>0.591347</td>\n",
       "      <td>0.550679</td>\n",
       "      <td>0.013345</td>\n",
       "      <td>0.175402</td>\n",
       "    </tr>\n",
       "    <tr>\n",
       "      <th>min</th>\n",
       "      <td>8.000000</td>\n",
       "      <td>8.000000</td>\n",
       "      <td>16.000000</td>\n",
       "      <td>127.619296</td>\n",
       "      <td>0.000000</td>\n",
       "      <td>6.444031</td>\n",
       "      <td>0.000000</td>\n",
       "      <td>127.966916</td>\n",
       "      <td>6.436802</td>\n",
       "      <td>-4.003566</td>\n",
       "      <td>-3.082066</td>\n",
       "      <td>0.081370</td>\n",
       "      <td>-0.980462</td>\n",
       "    </tr>\n",
       "    <tr>\n",
       "      <th>25%</th>\n",
       "      <td>40.000000</td>\n",
       "      <td>53.000000</td>\n",
       "      <td>93.750000</td>\n",
       "      <td>800.388670</td>\n",
       "      <td>0.001907</td>\n",
       "      <td>7.869458</td>\n",
       "      <td>0.000016</td>\n",
       "      <td>800.183864</td>\n",
       "      <td>7.871305</td>\n",
       "      <td>-0.427811</td>\n",
       "      <td>-0.407775</td>\n",
       "      <td>0.081480</td>\n",
       "      <td>-0.105594</td>\n",
       "    </tr>\n",
       "    <tr>\n",
       "      <th>50%</th>\n",
       "      <td>59.000000</td>\n",
       "      <td>82.000000</td>\n",
       "      <td>141.000000</td>\n",
       "      <td>1164.275899</td>\n",
       "      <td>0.006881</td>\n",
       "      <td>8.206324</td>\n",
       "      <td>0.000050</td>\n",
       "      <td>1164.337216</td>\n",
       "      <td>8.205291</td>\n",
       "      <td>-0.101915</td>\n",
       "      <td>-0.092512</td>\n",
       "      <td>0.082058</td>\n",
       "      <td>0.001447</td>\n",
       "    </tr>\n",
       "    <tr>\n",
       "      <th>75%</th>\n",
       "      <td>79.000000</td>\n",
       "      <td>109.000000</td>\n",
       "      <td>188.000000</td>\n",
       "      <td>1481.069887</td>\n",
       "      <td>0.018844</td>\n",
       "      <td>8.466148</td>\n",
       "      <td>0.000125</td>\n",
       "      <td>1481.587240</td>\n",
       "      <td>8.466495</td>\n",
       "      <td>0.244233</td>\n",
       "      <td>0.227371</td>\n",
       "      <td>0.085935</td>\n",
       "      <td>0.104551</td>\n",
       "    </tr>\n",
       "    <tr>\n",
       "      <th>max</th>\n",
       "      <td>110.000000</td>\n",
       "      <td>160.000000</td>\n",
       "      <td>270.000000</td>\n",
       "      <td>1958.519250</td>\n",
       "      <td>1.336650</td>\n",
       "      <td>8.794553</td>\n",
       "      <td>0.023008</td>\n",
       "      <td>1960.450142</td>\n",
       "      <td>8.795034</td>\n",
       "      <td>3.036350</td>\n",
       "      <td>2.517734</td>\n",
       "      <td>0.176573</td>\n",
       "      <td>0.787772</td>\n",
       "    </tr>\n",
       "  </tbody>\n",
       "</table>\n",
       "</div>"
      ],
      "text/plain": [
       "                 Z            N            A           BE       BE_unc  \\\n",
       "count  2328.000000  2328.000000  2328.000000  2328.000000  2328.000000   \n",
       "mean     58.273625    81.629725   139.903351  1124.900112     0.029088   \n",
       "std      23.907182    36.671463    60.151425   444.276506     0.092694   \n",
       "min       8.000000     8.000000    16.000000   127.619296     0.000000   \n",
       "25%      40.000000    53.000000    93.750000   800.388670     0.001907   \n",
       "50%      59.000000    82.000000   141.000000  1164.275899     0.006881   \n",
       "75%      79.000000   109.000000   188.000000  1481.069887     0.018844   \n",
       "max     110.000000   160.000000   270.000000  1958.519250     1.336650   \n",
       "\n",
       "              BE_A     BE_A_unc        BE_DZ      BE_A_DZ  BE_residual  \\\n",
       "count  2328.000000  2328.000000  2328.000000  2328.000000  2328.000000   \n",
       "mean      8.159786     0.000350  1124.814876     8.159135    -0.085235   \n",
       "std       0.371506     0.001535   444.246937     0.372573     0.591347   \n",
       "min       6.444031     0.000000   127.966916     6.436802    -4.003566   \n",
       "25%       7.869458     0.000016   800.183864     7.871305    -0.427811   \n",
       "50%       8.206324     0.000050  1164.337216     8.205291    -0.101915   \n",
       "75%       8.466148     0.000125  1481.587240     8.466495     0.244233   \n",
       "max       8.794553     0.023008  1960.450142     8.795034     3.036350   \n",
       "\n",
       "           GP_mean     GP_sigma        DZ_GP  \n",
       "count  2328.000000  2328.000000  2328.000000  \n",
       "mean     -0.084849     0.087694    -0.000387  \n",
       "std       0.550679     0.013345     0.175402  \n",
       "min      -3.082066     0.081370    -0.980462  \n",
       "25%      -0.407775     0.081480    -0.105594  \n",
       "50%      -0.092512     0.082058     0.001447  \n",
       "75%       0.227371     0.085935     0.104551  \n",
       "max       2.517734     0.176573     0.787772  "
      ]
     },
     "execution_count": 28,
     "metadata": {},
     "output_type": "execute_result"
    },
    {
     "data": {
      "image/png": "[encoded data removed]",
      "text/plain": [
       "<Figure size 244.8x244.8 with 1 Axes>"
      ]
     },
     "metadata": {
      "needs_background": "light"
     },
     "output_type": "display_data"
    }
   ],
   "source": [
    "print(f'sigma for DZ for training data: {train.BE_residual.std():.3f} MeV')\n",
    "print(f'sigma for DZ-GP for training data: {pred[pred.estimated == False].DZ_GP.std():.3f} MeV')\n",
    "\n",
    "fig, ax = plt.subplots(1, 1, figsize=(3.4, 3.4))\n",
    "\n",
    "ax.hist(train.BE_residual, bins=25, density=True,\n",
    "        label='DZ',\n",
    "        alpha=0.5)\n",
    "ax.hist(pred[pred.estimated == False].DZ_GP, bins=25, density=True,\n",
    "        label='DZ-GP',\n",
    "        alpha=0.5)\n",
    "\n",
    "ax.set_xlabel(r'$B_{th}-B_{exp}\\left[\\mathrm{MeV}\\right]$')\n",
    "\n",
    "ax.legend()\n",
    "fig.tight_layout()\n",
    "\n",
    "fig.savefig('GP_training/residualDists.pdf')\n",
    "\n",
    "pred[pred.estimated == False].describe()"
   ]
  },
  {
   "cell_type": "markdown",
   "metadata": {},
   "source": [
    "# MCMC inference"
   ]
  },
  {
   "cell_type": "markdown",
   "metadata": {},
   "source": [
    "## Walker start positions"
   ]
  },
  {
   "cell_type": "code",
   "execution_count": null,
   "metadata": {},
   "outputs": [],
   "source": [
    "# MCMC Options\n",
    "nwalkers = 40\n",
    "nchain = 2000\n",
    "\n",
    "# RBF variance and lengthscales from ML optimisation\n",
    "x0 = model.rbf.param_array\n",
    "\n",
    "# Number of parameters\n",
    "ndim = x0.shape[0]\n",
    "\n",
    "print(f'Dimensions = {ndim}')\n",
    "print(f'Walkers = {nwalkers}')\n",
    "print(f'Chain length = {nchain}')\n",
    "print(f'Function calls = {nwalkers*nchain}')\n",
    "\n",
    "# Initialise walkers in 'small Gaussian ball' around minimum\n",
    "p0 = x0 + 1e-5 * np.random.randn(nwalkers, ndim)"
   ]
  },
  {
   "cell_type": "markdown",
   "metadata": {},
   "source": [
    "## Sample"
   ]
  },
  {
   "cell_type": "code",
   "execution_count": null,
   "metadata": {},
   "outputs": [],
   "source": [
    "# # Log-probability function\n",
    "# def log_prob(p, model, noise):\n",
    "#     if any(p <= 0.):\n",
    "#         return -np.inf\n",
    "        \n",
    "#     else:\n",
    "#         model[''] = list(p) + [noise]\n",
    "#         return model.log_likelihood()\n",
    "\n",
    "# # Enable (shared-memory) parallelisation\n",
    "# with Pool() as pool:\n",
    "#     # Create sampler\n",
    "#     sampler = emcee.EnsembleSampler(nwalkers, ndim, log_prob, args=(model, trainErrorsMean), pool=pool)\n",
    "    \n",
    "#     # Run sampler with progress bar\n",
    "#     sampler.run_mcmc(p0, nchain, progress=True)\n",
    "\n",
    "# # Autocorrelation time\n",
    "# tau = sampler.get_autocorr_time()\n",
    "\n",
    "# # Number of samples to discard from beginning of chain\n",
    "# burnin = int(2 * np.max(tau))\n",
    "\n",
    "# # How much to thin chain\n",
    "# thin = int(0.5 * np.min(tau))\n",
    "\n",
    "# print(f'tau = {tau}')\n",
    "# print(f'Burn-in = {burnin}')\n",
    "# print(f'Thin = {thin}')\n",
    "\n",
    "# # 3D array of samples\n",
    "# samples = sampler.get_chain()\n",
    "\n",
    "# # Save all samples for reuse\n",
    "# np.save('samples', samples)\n",
    "\n",
    "# # Remove 'burn-in' samples, and thin samples so not too many correlated samples are plotted\n",
    "# flat_samples = sampler.get_chain(discard=burnin, thin=thin, flat=True)\n",
    "\n",
    "# # Save modified samples for plotting again\n",
    "# np.savetxt('flat_samples.dat', flat_samples)\n",
    "\n",
    "# # Extract log probabilites of chain\n",
    "# log_prob_samples = sampler.get_log_prob(discard=burnin, thin=thin, flat=True)\n",
    "\n",
    "# # Save log-probs for plotting\n",
    "# np.savetxt('log_probs.dat', log_prob_samples)"
   ]
  }
 ],
 "metadata": {
  "kernelspec": {
   "display_name": "Python 3",
   "language": "python",
   "name": "python3"
  },
  "language_info": {
   "codemirror_mode": {
    "name": "ipython",
    "version": 3
   },
   "file_extension": ".py",
   "mimetype": "text/x-python",
   "name": "python",
   "nbconvert_exporter": "python",
   "pygments_lexer": "ipython3",
   "version": "3.7.8"
  },
  "toc": {
   "base_numbering": 1,
   "nav_menu": {},
   "number_sections": true,
   "sideBar": true,
   "skip_h1_title": false,
   "title_cell": "Table of Contents",
   "title_sidebar": "Contents",
   "toc_cell": false,
   "toc_position": {
    "height": "calc(100% - 180px)",
    "left": "10px",
    "top": "150px",
    "width": "272.391px"
   },
   "toc_section_display": true,
   "toc_window_display": true
  }
 },
 "nbformat": 4,
 "nbformat_minor": 4
}
