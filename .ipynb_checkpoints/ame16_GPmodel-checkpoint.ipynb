{
 "cells": [
  {
   "cell_type": "markdown",
   "metadata": {},
   "source": [
    "## Imports"
   ]
  },
  {
   "cell_type": "code",
   "execution_count": 26,
   "metadata": {},
   "outputs": [],
   "source": [
    "import pickle\n",
    "from multiprocessing import Pool\n",
    "\n",
    "import numpy as np\n",
    "import pandas as pd\n",
    "\n",
    "import matplotlib.pyplot as plt\n",
    "from matplotlib import rcParams\n",
    "from matplotlib.ticker import MultipleLocator, MaxNLocator, FormatStrFormatter, AutoMinorLocator\n",
    "from matplotlib import gridspec\n",
    "\n",
    "# For fitting Gaussians to the histograms\n",
    "from scipy.optimize import leastsq\n",
    "\n",
    "# Corner plots\n",
    "import corner as corner\n",
    "\n",
    "# Gaussian processes\n",
    "import GPy as gpy\n",
    "# MCMC sampling\n",
    "import emcee"
   ]
  },
  {
   "cell_type": "markdown",
   "metadata": {},
   "source": [
    "## Setup"
   ]
  },
  {
   "cell_type": "code",
   "execution_count": 27,
   "metadata": {},
   "outputs": [],
   "source": [
    "# Storage for data and plots\n",
    "path = 'GP_training/'\n",
    "\n",
    "# matplotlib style sheet\n",
    "# plt.style.use('../../neutron_stars_tf/etf/style_1.mplstyle')\n",
    "plt.style.use('style_1.mplstyle')\n",
    "\n",
    "# Width of plot lines\n",
    "rcParams['lines.linewidth'] = 1.\n",
    "\n",
    "# Seed\n",
    "np.random.seed(100)\n",
    "\n",
    "# Print precision\n",
    "np.set_printoptions(precision=3)\n",
    "\n",
    "# Text box properties\n",
    "text_bbox = dict(boxstyle='round',\n",
    "                 facecolor=(1, 1, 1, 1),\n",
    "                 edgecolor='k',\n",
    "                 pad=0.5)\n",
    "\n",
    "# Colours\n",
    "colours = [plt.cm.tab10(i) for i in range(10)]"
   ]
  },
  {
   "cell_type": "markdown",
   "metadata": {},
   "source": [
    "# Load AME2016 data"
   ]
  },
  {
   "cell_type": "code",
   "execution_count": 28,
   "metadata": {},
   "outputs": [],
   "source": [
    "columnHeadings = ['col1',\n",
    "                  'N_Z', 'N', 'Z', 'A', 'El',\n",
    "                  'origin',\n",
    "                  'mass_excess', 'mass_excess_unc',\n",
    "                  'BE_A', 'BE_A_unc',\n",
    "                  'B', 'beta_decay', 'beta_decay_unc',\n",
    "                  'atomic_mass_1', 'atomic_mass_2', # digits pre- and post- decimal point are in separate columns\n",
    "                  'atomic_mass_unc']\n",
    "\n",
    "# Width of each column in AME data file\n",
    "AMEwidths = [1, 3, 5, 5, 5, 4, 4, 14, 11, 11, 9, 3, 11, 9, 4, 13, 11]\n",
    "\n",
    "exp = pd.read_fwf('mass16.txt', widths=AMEwidths,\n",
    "                 names=columnHeadings, skiprows=39)"
   ]
  },
  {
   "cell_type": "markdown",
   "metadata": {},
   "source": [
    "# Clean data and add new $Cu$ mass measurements"
   ]
  },
  {
   "cell_type": "code",
   "execution_count": 29,
   "metadata": {
    "scrolled": true
   },
   "outputs": [],
   "source": [
    "# Mass excess of neutron and proton\n",
    "neutronME = float(exp.loc[0, 'mass_excess'])\n",
    "protonME = float(exp.loc[1, 'mass_excess'])\n",
    "\n",
    "# Keep only nuclide and binding energy info\n",
    "exp = exp[['N', 'Z', 'A', 'El', 'BE_A', 'BE_A_unc']]\n",
    "\n",
    "\"\"\"\n",
    "Add new mass measurements of neutron-rich copper isotopes from PRL 119, 192592 (2017)\n",
    "\"\"\"\n",
    "isotopes = (exp.El.eq('Cu')) & (exp.A.between(75, 79))\n",
    "# New mass excesses for Cu-75 to Cu-79 (keV), and their uncertainties\n",
    "newMassEx = np.array([-54470.01, -50981.55, -48862.8, -44772., -42408.])\n",
    "newMassExUnc = [0.76, 0.89, 1.2, 17., 105.]\n",
    "# Convert to binding energy per particle\n",
    "newBE_A = (exp[isotopes].N*neutronME + 29*protonME - newMassEx) / exp[isotopes].A\n",
    "newBE_A_unc = newMassExUnc / exp[isotopes].A\n",
    "# Add new values to data frame\n",
    "exp[isotopes] = exp[isotopes].assign(BE_A=newBE_A)\n",
    "exp[isotopes] = exp[isotopes].assign(BE_A_unc=newBE_A_unc)\n",
    "\n",
    "# Mass values that are not purely experimental have a '#' in the AME2016 data file\n",
    "exp['estimated'] = exp['BE_A'].str.contains('#')\n",
    "# New Cu isotopes should have 'False' for 'estimated' column\n",
    "exp[isotopes] = exp[isotopes].assign(estimated=False)\n",
    "\n",
    "# Remove '#'\n",
    "exp[['BE_A', 'BE_A_unc']] = exp[['BE_A', 'BE_A_unc']].replace('#', '', regex=True)\n",
    "# Convert BE_A and BE_A unc. to floats\n",
    "exp = exp.astype({'BE_A': 'float64', 'BE_A_unc': 'float64'})\n",
    "\n",
    "# Convert to MeV\n",
    "exp.loc[:,['BE_A', 'BE_A_unc']] /= 1000.\n",
    "\n",
    "# Total BE and experimental errors\n",
    "exp['BE'] = exp.BE_A * exp.A\n",
    "exp['BE_unc'] = exp.BE_A_unc * exp.A"
   ]
  },
  {
   "cell_type": "markdown",
   "metadata": {},
   "source": [
    "# Load DZ residuals"
   ]
  },
  {
   "cell_type": "code",
   "execution_count": 30,
   "metadata": {},
   "outputs": [],
   "source": [
    "# DZ mass table with errors\n",
    "DZwidths = [12, 12, 21, 31]\n",
    "DZmasses = pd.read_fwf('DZ_mass_table_noerror.dat', widths=DZwidths,\n",
    "                    names=['Z', 'N', 'BE_DZ', 'BE_DZ_unc'], skiprows=1)\n",
    "\n",
    "# Merge experimental and DZ data\n",
    "df = DZmasses.merge(exp, how='outer', on=['Z', 'N'])\n",
    "# Re-order columns\n",
    "df = df.reindex(columns=['Z', 'N', 'A', 'El',\n",
    "                               'BE', 'BE_unc', 'BE_A', 'BE_A_unc', 'estimated',\n",
    "                               'BE_DZ', 'BE_DZ_unc'])\n",
    "# Sort by Z then N\n",
    "df = df.sort_values(by=['Z', 'N'])\n",
    "# Complete A column\n",
    "df.A = df.Z + df.N\n",
    "\n",
    "# List of all Z values\n",
    "ZList = df.Z.unique()\n",
    "# Make list of all elements from (row 0, column 3) of all entries where El is not NaN, for specified Z\n",
    "ElList = [df[(df.El.notna()) & (df.Z == Z)].iloc[0,3] for Z in ZList]\n",
    "# Use dictionary to fill in blank values for El\n",
    "ElDict = dict(zip(ZList, ElList))\n",
    "df.El = df.Z.map(ElDict)\n",
    "\n",
    "# Calculate residuals\n",
    "df['residual'] = df.BE_DZ - df.BE"
   ]
  },
  {
   "cell_type": "markdown",
   "metadata": {},
   "source": [
    "# Train GP on DZ residuals"
   ]
  },
  {
   "cell_type": "markdown",
   "metadata": {},
   "source": [
    "## Prepare training and testing data"
   ]
  },
  {
   "cell_type": "code",
   "execution_count": 31,
   "metadata": {},
   "outputs": [
    {
     "name": "stdout",
     "output_type": "stream",
     "text": [
      "Mean experimental error: 0.028 MeV\n"
     ]
    }
   ],
   "source": [
    "# Select all or subset of residuals for training GP\n",
    "Zmin, Zmax = 0, 120\n",
    "trainQuery = f'Z >= {Zmin} & Z <= {Zmax} & BE_DZ.notna()'\n",
    "\n",
    "train = df.query(trainQuery)\n",
    "train = train[train.estimated.eq(False)]\n",
    "train.to_pickle(path + 'train.pkl')\n",
    "\n",
    "# Average error of experimental BEs\n",
    "trainErrorsMean = train.BE_unc.mean()\n",
    "print(f'Mean experimental error: {trainErrorsMean:.3f} MeV')\n",
    "\n",
    "Xtrain = train[['N', 'Z']].to_numpy()\n",
    "Ytrain = np.atleast_2d(train.residual.to_numpy()).T"
   ]
  },
  {
   "cell_type": "code",
   "execution_count": 32,
   "metadata": {},
   "outputs": [],
   "source": [
    "# Select estimated values (in training range) for testing\n",
    "test = df.query(trainQuery)\n",
    "test = test[test.estimated.eq(True)]\n",
    "test.to_pickle(path + 'test.pkl')\n",
    "\n",
    "Xtest = train[['N', 'Z']].to_numpy()\n",
    "Ytest = np.atleast_2d(train.residual.to_numpy()).T"
   ]
  },
  {
   "cell_type": "markdown",
   "metadata": {},
   "source": [
    "## Model setup"
   ]
  },
  {
   "cell_type": "code",
   "execution_count": 54,
   "metadata": {},
   "outputs": [
    {
     "name": "stdout",
     "output_type": "stream",
     "text": [
      "Initial model parameters: (1.0, 1.0, 1.0, 0.0008054099071189972)\n"
     ]
    },
    {
     "data": {
      "application/vnd.jupyter.widget-view+json": {
       "model_id": "ad6606a0148e46f4ba8909a9db8dbc25",
       "version_major": 2,
       "version_minor": 0
      },
      "text/plain": [
       "HBox(children=(VBox(children=(IntProgress(value=0, max=1000), HTML(value=''))), Box(children=(HTML(value=''),)…"
      ]
     },
     "metadata": {},
     "output_type": "display_data"
    },
    {
     "name": "stdout",
     "output_type": "stream",
     "text": [
      "Optimization restart 1/4, f = 328.5615890869153\n"
     ]
    },
    {
     "data": {
      "application/vnd.jupyter.widget-view+json": {
       "model_id": "da096e622ec240ea8e9813b69a51fe8d",
       "version_major": 2,
       "version_minor": 0
      },
      "text/plain": [
       "HBox(children=(VBox(children=(IntProgress(value=0, max=1000), HTML(value=''))), Box(children=(HTML(value=''),)…"
      ]
     },
     "metadata": {},
     "output_type": "display_data"
    },
    {
     "name": "stdout",
     "output_type": "stream",
     "text": [
      "Optimization restart 2/4, f = 328.56158909851365\n"
     ]
    },
    {
     "data": {
      "application/vnd.jupyter.widget-view+json": {
       "model_id": "9a88d8d6874942f9a10c6daa033b5c57",
       "version_major": 2,
       "version_minor": 0
      },
      "text/plain": [
       "HBox(children=(VBox(children=(IntProgress(value=0, max=1000), HTML(value=''))), Box(children=(HTML(value=''),)…"
      ]
     },
     "metadata": {},
     "output_type": "display_data"
    },
    {
     "name": "stdout",
     "output_type": "stream",
     "text": [
      "Optimization restart 3/4, f = 328.5615890900608\n"
     ]
    },
    {
     "data": {
      "application/vnd.jupyter.widget-view+json": {
       "model_id": "a9c56a2b0d0a420c918907c21a461063",
       "version_major": 2,
       "version_minor": 0
      },
      "text/plain": [
       "HBox(children=(VBox(children=(IntProgress(value=0, max=1000), HTML(value=''))), Box(children=(HTML(value=''),)…"
      ]
     },
     "metadata": {},
     "output_type": "display_data"
    },
    {
     "name": "stdout",
     "output_type": "stream",
     "text": [
      "Optimization restart 4/4, f = 328.5615890875083\n",
      "RBF variance after MLE optimisation: 0.4331896215296758\n",
      "RBF lengthscales after MLE optimisation: (2.655606638369245, 1.9716061472100939)\n",
      "Nugget sigma after MLE optimisation: 0.20044676735582662\n"
     ]
    }
   ],
   "source": [
    "# Create 2D RBF kernel, with ARD\n",
    "kernel = gpy.kern.RBF(input_dim=2, ARD=True)\n",
    "\n",
    "# Create GPy model, initialising noise variance using average experimental error\n",
    "model = gpy.models.GPRegression(Xtrain, Ytrain, kernel=kernel, noise_var=trainErrorsMean**2)\n",
    "# # Fix GP noise parameter to average scale of experimental uncertainty\n",
    "# model.Gaussian_noise.variance.fix()\n",
    "print(f'Initial model parameters: {*model.param_array,}')\n",
    "\n",
    "# Optimise with restarts to ensure maximum likelihood is found\n",
    "model.optimize_restarts(num_restarts=4, messages=True, clear_after_finish=True)\n",
    "\n",
    "# Save model\n",
    "with open(path + 'model.pkl', 'wb') as f:\n",
    "    # Pickle the 'data' dictionary using the highest protocol available\n",
    "    pickle.dump(model, f, pickle.HIGHEST_PROTOCOL)\n",
    "\n",
    "print(f'RBF variance after MLE optimisation: {model.rbf.param_array[0]}')\n",
    "print(f'RBF lengthscales after MLE optimisation: {*model.rbf.param_array[1:],}')\n",
    "print(f'Nugget sigma after MLE optimisation: {np.sqrt(model.param_array[3])}')"
   ]
  },
  {
   "cell_type": "markdown",
   "metadata": {},
   "source": [
    "# Predictions with DZ+GP"
   ]
  },
  {
   "cell_type": "markdown",
   "metadata": {},
   "source": [
    "## Selected chains"
   ]
  },
  {
   "cell_type": "code",
   "execution_count": 33,
   "metadata": {},
   "outputs": [
    {
     "name": "stderr",
     "output_type": "stream",
     "text": [
      " /home/matt/anaconda3/envs/gp/lib/python3.7/site-packages/ipykernel_launcher.py:26: SettingWithCopyWarning:\n",
      "A value is trying to be set on a copy of a slice from a DataFrame.\n",
      "Try using .loc[row_indexer,col_indexer] = value instead\n",
      "\n",
      "See the caveats in the documentation: https://pandas.pydata.org/pandas-docs/stable/user_guide/indexing.html#returning-a-view-versus-a-copy\n",
      " /home/matt/anaconda3/envs/gp/lib/python3.7/site-packages/ipykernel_launcher.py:27: SettingWithCopyWarning:\n",
      "A value is trying to be set on a copy of a slice from a DataFrame.\n",
      "Try using .loc[row_indexer,col_indexer] = value instead\n",
      "\n",
      "See the caveats in the documentation: https://pandas.pydata.org/pandas-docs/stable/user_guide/indexing.html#returning-a-view-versus-a-copy\n",
      " /home/matt/anaconda3/envs/gp/lib/python3.7/site-packages/ipykernel_launcher.py:30: SettingWithCopyWarning:\n",
      "A value is trying to be set on a copy of a slice from a DataFrame.\n",
      "Try using .loc[row_indexer,col_indexer] = value instead\n",
      "\n",
      "See the caveats in the documentation: https://pandas.pydata.org/pandas-docs/stable/user_guide/indexing.html#returning-a-view-versus-a-copy\n",
      " /home/matt/anaconda3/envs/gp/lib/python3.7/site-packages/ipykernel_launcher.py:33: SettingWithCopyWarning:\n",
      "A value is trying to be set on a copy of a slice from a DataFrame.\n",
      "Try using .loc[row_indexer,col_indexer] = value instead\n",
      "\n",
      "See the caveats in the documentation: https://pandas.pydata.org/pandas-docs/stable/user_guide/indexing.html#returning-a-view-versus-a-copy\n",
      " /home/matt/anaconda3/envs/gp/lib/python3.7/site-packages/ipykernel_launcher.py:35: SettingWithCopyWarning:\n",
      "A value is trying to be set on a copy of a slice from a DataFrame.\n",
      "Try using .loc[row_indexer,col_indexer] = value instead\n",
      "\n",
      "See the caveats in the documentation: https://pandas.pydata.org/pandas-docs/stable/user_guide/indexing.html#returning-a-view-versus-a-copy\n"
     ]
    }
   ],
   "source": [
    "def predictResiduals(model, XPred):\n",
    "    # GP predictions at unknown points\n",
    "    meanNew, covNew = model.predict_noiseless(XPred)\n",
    "\n",
    "    # Save to file\n",
    "    np.savetxt(path + 'GP_predictions.dat',\n",
    "               np.hstack((XPred, meanNew, covNew)),\n",
    "               fmt=('\\t%d', '\\t%d', '\\t%.9e', '\\t%.9e'),\n",
    "               header='\\tN\\tZ\\tmeans\\t\\t\\t\\tcovs')\n",
    "    \n",
    "    return meanNew, covNew\n",
    "\n",
    "with open(path + 'model.pkl', 'rb') as f:\n",
    "    model = pickle.load(f)\n",
    "\n",
    "# Range of Z for predictions\n",
    "pred_Zmin, pred_Zmax = 0, 120\n",
    "pred = df.query(f'Z >= {pred_Zmin} & Z <= {pred_Zmax} & BE_DZ.notna()')\n",
    "# pred = pred[pred.estimated.notna()] # Only predict for isotopes in AME2016\n",
    "XPred = pred[['N', 'Z']].to_numpy()\n",
    "\n",
    "# Predict\n",
    "means, covs = predictResiduals(model, XPred)\n",
    "\n",
    "# Mean and sigma for GP model of DZ10 residuals\n",
    "pred['GP_mean'] = means\n",
    "pred['GP_sigma'] = np.sqrt(covs)\n",
    "\n",
    "# Residuals of new combined DZ10-GP model\n",
    "pred['res_DZGP'] = pred.residual - pred.GP_mean\n",
    "\n",
    "# New DZ10-GP mass table\n",
    "pred['BE_DZGP'] = pred.BE_DZ - pred.GP_mean\n",
    "# Uncertainty for new model is DZ10 uncertainty and GP sigma added in quadrature\n",
    "pred['BE_DZGP_unc'] = np.sqrt(pred.BE_DZ_unc**2 + pred.GP_sigma**2)\n",
    "\n",
    "# Save to files\n",
    "pred.to_pickle(path + 'predict.pkl')\n",
    "np.savetxt(path + 'DZ10-GP_massTable.dat',\n",
    "           pred[['Z', 'N', 'A', 'BE_DZGP', 'BE_DZGP_unc']].values,\n",
    "           fmt='%5d%4d%4d\\t%.9e\\t%.9e',\n",
    "           header='\\tZ\\tN\\tA\\tBE [MeV]\\t\\tsigma [MeV]')"
   ]
  },
  {
   "cell_type": "markdown",
   "metadata": {},
   "source": [
    "### Residuals"
   ]
  },
  {
   "cell_type": "code",
   "execution_count": 34,
   "metadata": {},
   "outputs": [
    {
     "data": {
      "image/png": "[encoded data removed]",
      "text/plain": [
       "<Figure size 244.8x244.8 with 2 Axes>"
      ]
     },
     "metadata": {
      "needs_background": "light"
     },
     "output_type": "display_data"
    }
   ],
   "source": [
    "# Text labels for plots\n",
    "labels = ['DZ10', 'DZ10-GP']\n",
    "\n",
    "# Z values and positions for vertical lines separating measured and extrapolated regions\n",
    "Zvals = [28, 29]\n",
    "vertLinePos = [45.5, 49.5]\n",
    "\n",
    "fig, axs = plt.subplots(len(Zvals), 1,\n",
    "                        figsize=(3.4, 3.4), sharex=True, gridspec_kw={'hspace': 0.})\n",
    "\n",
    "for i, (ax, Z, v) in enumerate(zip(axs, Zvals, vertLinePos)):\n",
    "    chain = pred.query('Z == @Z & N >= 30')\n",
    "    \n",
    "    # Mark x-axis\n",
    "    ax.axhline(0., c='k')\n",
    "    \n",
    "    # Mark and shade extrapolation region\n",
    "    ax.axvline(v, ls='--', c=colours[3])\n",
    "    ax.axvspan(v, 54., color=colours[3], alpha=0.1, lw=0)\n",
    "    \n",
    "    # Plot DZ10 residuals, DZ10-GP residuals, and experimental error bars\n",
    "    ax.errorbar(chain.N, chain.residual, yerr=chain.BE_DZ_unc,\n",
    "                capsize=2., c=colours[0], fmt='.-', lw=1.,\n",
    "                label=labels[0], zorder=3)\n",
    "    ax.errorbar(chain.N, chain.res_DZGP, yerr=chain.BE_DZGP_unc,\n",
    "                capsize=2., c=colours[1], fmt='x-', lw=1.,\n",
    "                label=labels[1], zorder=4)\n",
    "    ax.errorbar(chain.N, np.zeros(len(chain.N)), yerr=chain.BE_unc,\n",
    "                capsize=2., c=colours[2], fmt='--', lw=1.,\n",
    "                label='Exp.', zorder=2)\n",
    "    \n",
    "    # Label for Z value\n",
    "    ax.text(0.15, 0.85, fr'$Z={Z}$',\n",
    "            bbox=text_bbox,\n",
    "            ha='center', va='center',\n",
    "            transform=ax.transAxes)\n",
    "    \n",
    "    ax.set_ylabel(r'$B_{th}-B_{exp}\\left[\\mathrm{MeV}\\right]$')\n",
    "    ax.set_xlim([29., 54.])\n",
    "    \n",
    "    # Ticks\n",
    "    ax.xaxis.set_major_locator(MultipleLocator(2))\n",
    "    ax.xaxis.set_minor_locator(MultipleLocator(1))\n",
    "    \n",
    "    ax.legend(loc='upper center')\n",
    "\n",
    "axs[-1].set_xlabel(r'$N$')\n",
    "fig.align_ylabels(axs[:])\n",
    "\n",
    "fig.tight_layout()\n",
    "fig.savefig(path + 'Z_chains.pdf')"
   ]
  },
  {
   "cell_type": "markdown",
   "metadata": {},
   "source": [
    "### GP contribution"
   ]
  },
  {
   "cell_type": "code",
   "execution_count": 35,
   "metadata": {},
   "outputs": [
    {
     "data": {
      "image/png": "[encoded data removed]",
      "text/plain": [
       "<Figure size 244.8x216 with 1 Axes>"
      ]
     },
     "metadata": {
      "needs_background": "light"
     },
     "output_type": "display_data"
    }
   ],
   "source": [
    "fig, ax = plt.subplots(1, 1, figsize=(3.4, 3.))\n",
    "\n",
    "chainColours = ['k', colours[3]]\n",
    "\n",
    "means, sigmas = [], []\n",
    "\n",
    "for i, (Z, v, c) in enumerate(zip(Zvals, vertLinePos, chainColours)):\n",
    "    chain = pred.query('Z == @Z & N >= 30')\n",
    "    \n",
    "    # Mark extrapolation region\n",
    "    ax.axvline(v, ls='--', c=c)\n",
    "    \n",
    "    means.append(ax.plot(chain.N, chain.GP_mean,\n",
    "                         c=c, lw=1.)[0])\n",
    "    \n",
    "    sigmas.append(ax.fill_between(chain.N, chain.GP_mean-chain.GP_sigma, chain.GP_mean+chain.GP_sigma,\n",
    "                                  color=c, alpha=0.2, lw=0.))\n",
    "\n",
    "ax.set_xlim([30., 64.])\n",
    "ax.set_xlabel(r'$N$')\n",
    "ax.set_ylabel(r'$GP(N,Z)\\left[\\mathrm{MeV}\\right]$')\n",
    "\n",
    "# Ticks\n",
    "ax.xaxis.set_major_locator(MultipleLocator(4))\n",
    "ax.xaxis.set_minor_locator(MultipleLocator(1))\n",
    "ax.yaxis.set_major_formatter(FormatStrFormatter('%g')) # No unnecessary trailing decimals\n",
    "\n",
    "ax.legend([(s, m) for (s, m) in zip(sigmas, means)], [fr'$Z={Z}$' for Z in Zvals])\n",
    "fig.tight_layout()\n",
    "fig.savefig(path + 'Z_chains_GP_contrib.pdf')"
   ]
  },
  {
   "cell_type": "markdown",
   "metadata": {},
   "source": [
    "## Residuals (measured nuclei only) as function of $A$"
   ]
  },
  {
   "cell_type": "code",
   "execution_count": 36,
   "metadata": {},
   "outputs": [
    {
     "data": {
      "image/png": "[encoded data removed]",
      "text/plain": [
       "<Figure size 244.8x244.8 with 2 Axes>"
      ]
     },
     "metadata": {
      "needs_background": "light"
     },
     "output_type": "display_data"
    }
   ],
   "source": [
    "fig, axs = plt.subplots(2, 1, figsize=(3.4, 3.4), sharex=True, gridspec_kw={'hspace': 0.})\n",
    "\n",
    "axs[0].plot(pred[pred.estimated == False].A, pred[pred.estimated == False].residual,\n",
    "            c=colours[0], ls='', marker='x', alpha=0.2)\n",
    "axs[1].plot(pred[pred.estimated == False].A, pred[pred.estimated == False].res_DZGP,\n",
    "            c=colours[1], ls='', marker='x', alpha=0.2)\n",
    "\n",
    "axs[1].set_xlabel(r'$A$')\n",
    "\n",
    "for ax, l in zip(axs, labels):\n",
    "    ax.set_ylabel(r'$B_{th}-B_{exp}\\left[\\mathrm{MeV}\\right]$')\n",
    "    ax.text(0.85, 0.15, l,\n",
    "            bbox=text_bbox,\n",
    "            ha='center', va='center',\n",
    "            transform=ax.transAxes)\n",
    "\n",
    "fig.align_ylabels(axs[:])\n",
    "\n",
    "fig.tight_layout()\n",
    "fig.savefig(path + 'residuals_vs_A.pdf')"
   ]
  },
  {
   "cell_type": "markdown",
   "metadata": {},
   "source": [
    "## Comparing residual distributions"
   ]
  },
  {
   "cell_type": "code",
   "execution_count": 37,
   "metadata": {},
   "outputs": [],
   "source": [
    "# Functions for fitting a Gaussian to binned data\n",
    "def gaussian(a, x, mu, sigma):\n",
    "    return a * np.exp(-((x - mu)**2 / (2 * sigma**2)))\n",
    "\n",
    "def chi2(a, x, y, mu, sigma):\n",
    "    if (mu == 'fix') & (sigma == 'fix'):\n",
    "        return y - gaussian(a[0], x, a[1], a[2])\n",
    "    else:\n",
    "        return np.sum((y - gaussian(a, x, mu, sigma))**2)\n",
    "\n",
    "def performFit(data, bins, fixMuResSigmaRes=True, fixMu0SigmaRes=False):\n",
    "    y, xedges = np.histogram(data, bins=bins)\n",
    "    x = [0.5*sum(xedges[i:i+2]) for i in range(len(xedges)-1)]\n",
    "    \n",
    "    if fixMuResSigmaRes:\n",
    "        mu = data.mean()\n",
    "        sigma = data.std()\n",
    "        a, _ = leastsq(chi2, x0=100., args=(x, y, mu, sigma))\n",
    "    elif fixMu0SigmaRes:\n",
    "        mu = 0. * data.mean()\n",
    "        sigma = data.std()\n",
    "        a, _ = leastsq(chi2, x0=100., args=(x, y, mu, sigma))\n",
    "    else:\n",
    "        (a, mu, sigma), _ = leastsq(chi2, x0=np.array([100., 0., 0.5]), args=(x, y, 'fix', 'fix'))\n",
    "        \n",
    "    return a, mu, sigma"
   ]
  },
  {
   "cell_type": "markdown",
   "metadata": {},
   "source": [
    "### Measured nuclei"
   ]
  },
  {
   "cell_type": "code",
   "execution_count": 38,
   "metadata": {},
   "outputs": [
    {
     "name": "stdout",
     "output_type": "stream",
     "text": [
      "sigma for DZ10 for training data: 0.601 MeV\n",
      "sigma for DZ10-GP for training data: 0.178 MeV\n"
     ]
    },
    {
     "data": {
      "text/html": [
       "<div>\n",
       "<style scoped>\n",
       "    .dataframe tbody tr th:only-of-type {\n",
       "        vertical-align: middle;\n",
       "    }\n",
       "\n",
       "    .dataframe tbody tr th {\n",
       "        vertical-align: top;\n",
       "    }\n",
       "\n",
       "    .dataframe thead th {\n",
       "        text-align: right;\n",
       "    }\n",
       "</style>\n",
       "<table border=\"1\" class=\"dataframe\">\n",
       "  <thead>\n",
       "    <tr style=\"text-align: right;\">\n",
       "      <th></th>\n",
       "      <th>residual</th>\n",
       "      <th>GP_mean</th>\n",
       "      <th>GP_sigma</th>\n",
       "      <th>res_DZGP</th>\n",
       "    </tr>\n",
       "  </thead>\n",
       "  <tbody>\n",
       "    <tr>\n",
       "      <th>count</th>\n",
       "      <td>2342.000000</td>\n",
       "      <td>2342.000000</td>\n",
       "      <td>2342.000000</td>\n",
       "      <td>2342.000000</td>\n",
       "    </tr>\n",
       "    <tr>\n",
       "      <th>mean</th>\n",
       "      <td>-0.007236</td>\n",
       "      <td>-0.007000</td>\n",
       "      <td>0.091513</td>\n",
       "      <td>-0.000236</td>\n",
       "    </tr>\n",
       "    <tr>\n",
       "      <th>std</th>\n",
       "      <td>0.601359</td>\n",
       "      <td>0.559334</td>\n",
       "      <td>0.014411</td>\n",
       "      <td>0.177792</td>\n",
       "    </tr>\n",
       "    <tr>\n",
       "      <th>min</th>\n",
       "      <td>-3.976998</td>\n",
       "      <td>-3.277054</td>\n",
       "      <td>0.084709</td>\n",
       "      <td>-0.906396</td>\n",
       "    </tr>\n",
       "    <tr>\n",
       "      <th>25%</th>\n",
       "      <td>-0.352999</td>\n",
       "      <td>-0.318462</td>\n",
       "      <td>0.084833</td>\n",
       "      <td>-0.104635</td>\n",
       "    </tr>\n",
       "    <tr>\n",
       "      <th>50%</th>\n",
       "      <td>-0.023549</td>\n",
       "      <td>-0.015985</td>\n",
       "      <td>0.085384</td>\n",
       "      <td>0.001629</td>\n",
       "    </tr>\n",
       "    <tr>\n",
       "      <th>75%</th>\n",
       "      <td>0.330304</td>\n",
       "      <td>0.310522</td>\n",
       "      <td>0.089437</td>\n",
       "      <td>0.105227</td>\n",
       "    </tr>\n",
       "    <tr>\n",
       "      <th>max</th>\n",
       "      <td>3.074272</td>\n",
       "      <td>2.595016</td>\n",
       "      <td>0.181089</td>\n",
       "      <td>0.758902</td>\n",
       "    </tr>\n",
       "  </tbody>\n",
       "</table>\n",
       "</div>"
      ],
      "text/plain": [
       "          residual      GP_mean     GP_sigma     res_DZGP\n",
       "count  2342.000000  2342.000000  2342.000000  2342.000000\n",
       "mean     -0.007236    -0.007000     0.091513    -0.000236\n",
       "std       0.601359     0.559334     0.014411     0.177792\n",
       "min      -3.976998    -3.277054     0.084709    -0.906396\n",
       "25%      -0.352999    -0.318462     0.084833    -0.104635\n",
       "50%      -0.023549    -0.015985     0.085384     0.001629\n",
       "75%       0.330304     0.310522     0.089437     0.105227\n",
       "max       3.074272     2.595016     0.181089     0.758902"
      ]
     },
     "execution_count": 38,
     "metadata": {},
     "output_type": "execute_result"
    },
    {
     "data": {
      "image/png": "[encoded data removed]",
      "text/plain": [
       "<Figure size 244.8x244.8 with 1 Axes>"
      ]
     },
     "metadata": {
      "needs_background": "light"
     },
     "output_type": "display_data"
    }
   ],
   "source": [
    "bins = np.linspace(-5., 5., 101)\n",
    "\n",
    "fig, ax = plt.subplots(1, 1, figsize=(3.4, 3.4))\n",
    "\n",
    "\"\"\"\n",
    "Plot residuals for training data (i.e. measured experimental values),\n",
    "and residuals for new DZ10-GP model, for same data\n",
    "\"\"\"\n",
    "for i, data in enumerate([train.residual, pred[pred.estimated == False].res_DZGP]):\n",
    "    # Histogram of residuals\n",
    "    ax.hist(data, bins=bins,\n",
    "        label=labels[i],\n",
    "        color=colours[i],\n",
    "        alpha=0.5)\n",
    "    \n",
    "    # Plot Gaussian fits with mean and sigma of residuals\n",
    "    a, mu, sigma = performFit(data, bins, fixMuResSigmaRes=False, fixMu0SigmaRes=True)\n",
    "    x = np.linspace(min(bins), max(bins), 1000)\n",
    "    y = gaussian(a, x, mu, sigma)\n",
    "    \n",
    "    ax.plot(x, y, label='Gaussian fit to '+labels[i])\n",
    "\n",
    "ax.set_xlabel(r'$B_{th}-B_{exp}\\left[\\mathrm{MeV}\\right]$')\n",
    "ax.set_xlim([-2.5, 2.5])\n",
    "\n",
    "# Reorder legend\n",
    "order = [2, 3, 0, 1]\n",
    "handles, labels = ax.get_legend_handles_labels()\n",
    "handles = [handles[i] for i in order]\n",
    "labels = [labels[i] for i in order]\n",
    "ax.legend(handles, labels, handlelength=1.)\n",
    "\n",
    "fig.tight_layout()\n",
    "fig.savefig(path + 'residualDists.pdf')\n",
    "\n",
    "print(f'sigma for DZ10 for training data: {train.residual.std():.3f} MeV')\n",
    "print(f'sigma for DZ10-GP for training data: {pred[pred.estimated == False].res_DZGP.std():.3f} MeV')\n",
    "pred[pred.estimated == False].iloc[:,11:15].describe()"
   ]
  },
  {
   "cell_type": "markdown",
   "metadata": {},
   "source": [
    "### Extrapolated nuclei"
   ]
  },
  {
   "cell_type": "code",
   "execution_count": 39,
   "metadata": {},
   "outputs": [
    {
     "name": "stdout",
     "output_type": "stream",
     "text": [
      "sigma for DZ10 for testing data: 1.426 MeV\n",
      "sigma for DZ10-GP for testing data: 1.100 MeV\n"
     ]
    },
    {
     "data": {
      "text/html": [
       "<div>\n",
       "<style scoped>\n",
       "    .dataframe tbody tr th:only-of-type {\n",
       "        vertical-align: middle;\n",
       "    }\n",
       "\n",
       "    .dataframe tbody tr th {\n",
       "        vertical-align: top;\n",
       "    }\n",
       "\n",
       "    .dataframe thead th {\n",
       "        text-align: right;\n",
       "    }\n",
       "</style>\n",
       "<table border=\"1\" class=\"dataframe\">\n",
       "  <thead>\n",
       "    <tr style=\"text-align: right;\">\n",
       "      <th></th>\n",
       "      <th>residual</th>\n",
       "      <th>GP_mean</th>\n",
       "      <th>GP_sigma</th>\n",
       "      <th>res_DZGP</th>\n",
       "    </tr>\n",
       "  </thead>\n",
       "  <tbody>\n",
       "    <tr>\n",
       "      <th>count</th>\n",
       "      <td>748.000000</td>\n",
       "      <td>748.000000</td>\n",
       "      <td>748.000000</td>\n",
       "      <td>748.000000</td>\n",
       "    </tr>\n",
       "    <tr>\n",
       "      <th>mean</th>\n",
       "      <td>0.418730</td>\n",
       "      <td>0.079920</td>\n",
       "      <td>0.348697</td>\n",
       "      <td>0.338810</td>\n",
       "    </tr>\n",
       "    <tr>\n",
       "      <th>std</th>\n",
       "      <td>1.425849</td>\n",
       "      <td>0.726018</td>\n",
       "      <td>0.156702</td>\n",
       "      <td>1.099932</td>\n",
       "    </tr>\n",
       "    <tr>\n",
       "      <th>min</th>\n",
       "      <td>-2.725350</td>\n",
       "      <td>-2.264794</td>\n",
       "      <td>0.093691</td>\n",
       "      <td>-2.098906</td>\n",
       "    </tr>\n",
       "    <tr>\n",
       "      <th>25%</th>\n",
       "      <td>-0.463671</td>\n",
       "      <td>-0.302689</td>\n",
       "      <td>0.213167</td>\n",
       "      <td>-0.163075</td>\n",
       "    </tr>\n",
       "    <tr>\n",
       "      <th>50%</th>\n",
       "      <td>0.210537</td>\n",
       "      <td>0.084107</td>\n",
       "      <td>0.331510</td>\n",
       "      <td>0.096930</td>\n",
       "    </tr>\n",
       "    <tr>\n",
       "      <th>75%</th>\n",
       "      <td>1.086303</td>\n",
       "      <td>0.526481</td>\n",
       "      <td>0.460121</td>\n",
       "      <td>0.481461</td>\n",
       "    </tr>\n",
       "    <tr>\n",
       "      <th>max</th>\n",
       "      <td>6.726785</td>\n",
       "      <td>2.890090</td>\n",
       "      <td>0.658171</td>\n",
       "      <td>6.723389</td>\n",
       "    </tr>\n",
       "  </tbody>\n",
       "</table>\n",
       "</div>"
      ],
      "text/plain": [
       "         residual     GP_mean    GP_sigma    res_DZGP\n",
       "count  748.000000  748.000000  748.000000  748.000000\n",
       "mean     0.418730    0.079920    0.348697    0.338810\n",
       "std      1.425849    0.726018    0.156702    1.099932\n",
       "min     -2.725350   -2.264794    0.093691   -2.098906\n",
       "25%     -0.463671   -0.302689    0.213167   -0.163075\n",
       "50%      0.210537    0.084107    0.331510    0.096930\n",
       "75%      1.086303    0.526481    0.460121    0.481461\n",
       "max      6.726785    2.890090    0.658171    6.723389"
      ]
     },
     "execution_count": 39,
     "metadata": {},
     "output_type": "execute_result"
    },
    {
     "data": {
      "image/png": "[encoded data removed]",
      "text/plain": [
       "<Figure size 244.8x244.8 with 1 Axes>"
      ]
     },
     "metadata": {
      "needs_background": "light"
     },
     "output_type": "display_data"
    }
   ],
   "source": [
    "bins = np.linspace(-3., 7., 51)\n",
    "\n",
    "fig, ax = plt.subplots(1, 1, figsize=(3.4, 3.4))\n",
    "\n",
    "\"\"\"\n",
    "Plot residuals for testing data (i.e. extrapolated experimental values),\n",
    "and residuals for new DZ10-GP model, for same data\n",
    "\"\"\"\n",
    "for i, data in enumerate([test.residual, pred[pred.estimated == True].res_DZGP]):\n",
    "    # Histogram of residuals\n",
    "    ax.hist(data, bins=bins,\n",
    "        label=labels[i],\n",
    "        color=colours[i],\n",
    "        alpha=0.5)\n",
    "    \n",
    "    # Plot Gaussian fits with mean and sigma of residuals\n",
    "    a, mu, sigma = performFit(data, bins, fixMuResSigmaRes=False, fixMu0SigmaRes=True)\n",
    "    x = np.linspace(min(bins), max(bins), 1000)\n",
    "    y = gaussian(a, x, mu, sigma)\n",
    "    \n",
    "    ax.plot(x, y, label='Gaussian fit to '+labels[i])\n",
    "\n",
    "ax.set_xlabel(r'$B_{th}-B_{exp}\\left[\\mathrm{MeV}\\right]$')\n",
    "ax.set_xlim([-3., 7.])\n",
    "\n",
    "# Reorder legend\n",
    "order = [2, 3, 0, 1]\n",
    "handles, labels = ax.get_legend_handles_labels()\n",
    "handles = [handles[i] for i in order]\n",
    "labels = [labels[i] for i in order]\n",
    "ax.legend(handles, labels, handlelength=1.)\n",
    "\n",
    "fig.tight_layout()\n",
    "fig.savefig(path + 'residualDists_extrapolated.pdf')\n",
    "\n",
    "print(f'sigma for DZ10 for testing data: {test.residual.std():.3f} MeV')\n",
    "print(f'sigma for DZ10-GP for testing data: {pred[pred.estimated == True].res_DZGP.std():.3f} MeV')\n",
    "pred[pred.estimated == True].iloc[:,11:15].describe()"
   ]
  },
  {
   "cell_type": "markdown",
   "metadata": {},
   "source": [
    "# MCMC inference"
   ]
  },
  {
   "cell_type": "markdown",
   "metadata": {},
   "source": [
    "## Walker start positions"
   ]
  },
  {
   "cell_type": "code",
   "execution_count": 40,
   "metadata": {},
   "outputs": [
    {
     "name": "stdout",
     "output_type": "stream",
     "text": [
      "Dimensions = 3\n",
      "Walkers = 32\n",
      "Chain length = 2000\n",
      "Function calls = 64000\n"
     ]
    }
   ],
   "source": [
    "# Load model\n",
    "with open(path + 'model.pkl', 'rb') as f:\n",
    "    model = pickle.load(f)\n",
    "\n",
    "# Fix GP noise parameter to average scale of experimental uncertainty\n",
    "model.Gaussian_noise.variance.fix()\n",
    "\n",
    "# MCMC Options\n",
    "nwalkers = 32\n",
    "nchain = 2000\n",
    "\n",
    "# RBF variance and lengthscales from ML optimisation\n",
    "x0 = model.rbf.param_array\n",
    "\n",
    "# Number of parameters\n",
    "ndim = x0.shape[0]\n",
    "\n",
    "print(f'Dimensions = {ndim}')\n",
    "print(f'Walkers = {nwalkers}')\n",
    "print(f'Chain length = {nchain}')\n",
    "print(f'Function calls = {nwalkers*nchain}')\n",
    "\n",
    "# Initialise walkers in 'small Gaussian ball' around minimum\n",
    "p0 = x0 + 1e-5 * np.random.randn(nwalkers, ndim)"
   ]
  },
  {
   "cell_type": "markdown",
   "metadata": {},
   "source": [
    "## Sample (NB run on supercomputer!)"
   ]
  },
  {
   "cell_type": "code",
   "execution_count": 167,
   "metadata": {},
   "outputs": [],
   "source": [
    "# Log-probability function\n",
    "def log_prob(p, model):\n",
    "    if any(p <= 0.):\n",
    "        return -np.inf\n",
    "        \n",
    "    else:\n",
    "        model[''] = list(p) + [model.param_array[3]]\n",
    "        return model.log_likelihood()\n",
    "\n",
    "# Enable (shared-memory) parallelisation\n",
    "with Pool() as pool:\n",
    "    # Create sampler\n",
    "    sampler = emcee.EnsembleSampler(nwalkers, ndim, log_prob, args=(model,), pool=pool)\n",
    "    \n",
    "    # Run sampler with progress bar\n",
    "    sampler.run_mcmc(p0, nchain, progress=True)\n",
    "\n",
    "# Autocorrelation time\n",
    "tau = sampler.get_autocorr_time()\n",
    "\n",
    "# Number of samples to discard from beginning of chain\n",
    "burnin = int(2 * np.max(tau))\n",
    "\n",
    "# How much to thin chain\n",
    "thin = int(0.5 * np.min(tau))\n",
    "\n",
    "print(f'tau = {tau}')\n",
    "print(f'Burn-in = {burnin}')\n",
    "print(f'Thin = {thin}')\n",
    "\n",
    "# 3D array of samples\n",
    "samples = sampler.get_chain()\n",
    "\n",
    "# Save all samples for reuse\n",
    "np.save(path + 'samples', samples)\n",
    "\n",
    "# Remove 'burn-in' samples, and thin samples so not too many correlated samples are plotted\n",
    "flat_samples = sampler.get_chain(discard=burnin, thin=thin, flat=True)\n",
    "\n",
    "# Save modified samples for plotting again\n",
    "np.savetxt(path + 'flat_samples.dat', flat_samples)\n",
    "\n",
    "# Extract log probabilites of chain\n",
    "log_prob_samples = sampler.get_log_prob(discard=burnin, thin=thin, flat=True)\n",
    "\n",
    "# Save log-probs for plotting\n",
    "np.savetxt(path + 'log_probs.dat', log_prob_samples)"
   ]
  },
  {
   "cell_type": "markdown",
   "metadata": {},
   "source": [
    "## Plot"
   ]
  },
  {
   "cell_type": "code",
   "execution_count": 41,
   "metadata": {},
   "outputs": [
    {
     "data": {
      "image/png": "[encoded data removed]",
      "text/plain": [
       "<Figure size 244.8x244.8 with 9 Axes>"
      ]
     },
     "metadata": {
      "needs_background": "light"
     },
     "output_type": "display_data"
    }
   ],
   "source": [
    "flat_samples = np.loadtxt(path + 'flat_samples.dat')\n",
    "\n",
    "rcParams['axes.grid'] = False\n",
    "\n",
    "fig, axs = plt.subplots(3, 3, figsize=(3.4, 3.4))\n",
    "\n",
    "fig = corner.corner(flat_samples[:,:],\n",
    "                    labels=[r'$\\eta^2$', r'$\\rho_N$', r'$\\rho_Z$'],\n",
    "                    label_kwargs={\"fontsize\": 7},\n",
    "                    show_titles=True,\n",
    "                    title_fmt='.2f',\n",
    "                    title_kwargs={\"fontsize\": 7},\n",
    "                    truths=model.rbf.param_array,\n",
    "                    quantiles=[0.16, 0.5, 0.84],\n",
    "                    max_n_ticks=5,\n",
    "                    levels=(1-np.exp(-0.5),),\n",
    "                    fig=fig)\n",
    "\n",
    "fig.savefig(path + 'cornerGPHypPars.pdf')"
   ]
  },
  {
   "cell_type": "code",
   "execution_count": null,
   "metadata": {},
   "outputs": [],
   "source": []
  }
 ],
 "metadata": {
  "kernelspec": {
   "display_name": "Python 3",
   "language": "python",
   "name": "python3"
  },
  "language_info": {
   "codemirror_mode": {
    "name": "ipython",
    "version": 3
   },
   "file_extension": ".py",
   "mimetype": "text/x-python",
   "name": "python",
   "nbconvert_exporter": "python",
   "pygments_lexer": "ipython3",
   "version": "3.7.8"
  },
  "toc": {
   "base_numbering": 1,
   "nav_menu": {},
   "number_sections": true,
   "sideBar": true,
   "skip_h1_title": false,
   "title_cell": "Table of Contents",
   "title_sidebar": "Contents",
   "toc_cell": false,
   "toc_position": {
    "height": "calc(100% - 180px)",
    "left": "10px",
    "top": "150px",
    "width": "272.391px"
   },
   "toc_section_display": true,
   "toc_window_display": true
  }
 },
 "nbformat": 4,
 "nbformat_minor": 4
}
